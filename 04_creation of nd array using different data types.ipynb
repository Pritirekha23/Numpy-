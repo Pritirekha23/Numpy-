{
 "cells": [
  {
   "cell_type": "markdown",
   "id": "da75a956",
   "metadata": {},
   "source": [
    "# Creation of ndarray by using specific datatypes"
   ]
  },
  {
   "cell_type": "code",
   "execution_count": 5,
   "id": "ebadf53d",
   "metadata": {},
   "outputs": [],
   "source": [
    "import numpy as ny"
   ]
  },
  {
   "cell_type": "raw",
   "id": "f1535276",
   "metadata": {},
   "source": [
    "#A- Creation of ndarray using int,float,bool,complex,str datatype\n",
    "#B- Creation of ndarray using object type"
   ]
  },
  {
   "cell_type": "markdown",
   "id": "9ad5f87a",
   "metadata": {},
   "source": [
    "### A- Creation of ndarray using int,float,bool,complex,str datatype\n"
   ]
  },
  {
   "cell_type": "code",
   "execution_count": 14,
   "id": "a9ab7e8d",
   "metadata": {},
   "outputs": [
    {
     "name": "stdout",
     "output_type": "stream",
     "text": [
      "[2 3 4 5 8 9]\n",
      "dimension is 1\n",
      "shape is:: (6,)\n",
      "size is:: 6\n",
      "data type is:: int64\n"
     ]
    }
   ],
   "source": [
    "#01- Creation of ndarray using int type\n",
    "l=[2,3,4,5,8.8,9.7]\n",
    "nrr=ny.array(l,dtype='int64')\n",
    "print(nrr)\n",
    "\n",
    "# properties\n",
    "print('dimension is',nrr.ndim)\n",
    "print('shape is::',nrr.shape)\n",
    "print('size is::',nrr.size)\n",
    "print('data type is::',nrr.dtype)"
   ]
  },
  {
   "cell_type": "code",
   "execution_count": 12,
   "id": "b39ad722",
   "metadata": {},
   "outputs": [
    {
     "name": "stdout",
     "output_type": "stream",
     "text": [
      "[12 34  5  7  4]\n",
      "dimension is 1\n",
      "shape is:: (5,)\n",
      "size is:: 5\n",
      "data type is:: int32\n"
     ]
    },
    {
     "name": "stderr",
     "output_type": "stream",
     "text": [
      "C:\\Users\\ASUS\\AppData\\Local\\Temp\\ipykernel_12880\\411624664.py:2: DeprecationWarning: `np.int` is a deprecated alias for the builtin `int`. To silence this warning, use `int` by itself. Doing this will not modify any behavior and is safe. When replacing `np.int`, you may wish to use e.g. `np.int64` or `np.int32` to specify the precision. If you wish to review your current use, check the release note link for additional information.\n",
      "Deprecated in NumPy 1.20; for more details and guidance: https://numpy.org/devdocs/release/1.20.0-notes.html#deprecations\n",
      "  nrr=ny.array([12,34,5.6,7.4,4.33],dtype=ny.int)\n"
     ]
    }
   ],
   "source": [
    "# another way\n",
    "nrr=ny.array([12,34,5.6,7.4,4.33],dtype=ny.int)\n",
    "print(nrr)\n",
    "\n",
    "\n",
    "# properties\n",
    "print('dimension is',nrr.ndim)\n",
    "print('shape is::',nrr.shape)\n",
    "print('size is::',nrr.size)\n",
    "print('data type is::',nrr.dtype)"
   ]
  },
  {
   "cell_type": "code",
   "execution_count": 17,
   "id": "471dc681",
   "metadata": {},
   "outputs": [
    {
     "name": "stdout",
     "output_type": "stream",
     "text": [
      "[5.44  7.44  2.    5.    9.006]\n",
      "dimension is 1\n",
      "shape is:: (5,)\n",
      "size is:: 5\n",
      "data type is:: float32\n"
     ]
    }
   ],
   "source": [
    "#02- Creation of ndarray using float type\n",
    "l1=[5.44,7.44,2,5,9.006]\n",
    "nrr=ny.array(l1,dtype=\"float32\")\n",
    "print(nrr)\n",
    "\n",
    "# properties\n",
    "print('dimension is',nrr.ndim)\n",
    "print('shape is::',nrr.shape)\n",
    "print('size is::',nrr.size)\n",
    "print('data type is::',nrr.dtype)"
   ]
  },
  {
   "cell_type": "code",
   "execution_count": 19,
   "id": "0b289889",
   "metadata": {},
   "outputs": [
    {
     "name": "stdout",
     "output_type": "stream",
     "text": [
      "[ True  True  True  True False False  True  True]\n",
      "dimension is 1\n",
      "shape is:: (8,)\n",
      "size is:: 8\n",
      "data type is:: bool\n"
     ]
    }
   ],
   "source": [
    "#03- Creation of ndarray using bool type\n",
    "l2=[5.44,6,7.6,True,False,0,1,'priti']\n",
    "nrr=ny.array(l2,dtype=\"bool\")\n",
    "print(nrr)\n",
    "\n",
    "# non-zero value means true \n",
    "# properties\n",
    "print('dimension is',nrr.ndim)\n",
    "print('shape is::',nrr.shape)\n",
    "print('size is::',nrr.size)\n",
    "print('data type is::',nrr.dtype)"
   ]
  },
  {
   "cell_type": "code",
   "execution_count": 24,
   "id": "578419bd",
   "metadata": {},
   "outputs": [
    {
     "name": "stdout",
     "output_type": "stream",
     "text": [
      "[ 9. +0.j  5. +0.j 43. +0.j 13.2+0.j  2. +3.j  1. +0.j  0. +0.j]\n"
     ]
    }
   ],
   "source": [
    "#04- Creation of ndarray using complex type\n",
    "l3=[9,5,43,13.2,2+3j,True,False]\n",
    "nrr=ny.array(l3,dtype=\"complex\")\n",
    "print(nrr)"
   ]
  },
  {
   "cell_type": "code",
   "execution_count": 28,
   "id": "99ad6476",
   "metadata": {},
   "outputs": [
    {
     "name": "stdout",
     "output_type": "stream",
     "text": [
      "['smruti' '12' '4.45' '77' '8.78' 'Jyoti' 'False' '(10+2j)']\n"
     ]
    }
   ],
   "source": [
    "#05- Creation of ndarray using str type\n",
    "l=['smruti',12,4.45,77,8.78,'Jyoti',False,10+2j]\n",
    "nrr=ny.array(l,dtype='str')\n",
    "print(nrr)"
   ]
  },
  {
   "cell_type": "markdown",
   "id": "87b87bb3",
   "metadata": {},
   "source": [
    "### B- Creation of ndarray using object type"
   ]
  },
  {
   "cell_type": "code",
   "execution_count": 30,
   "id": "fe4b81e7",
   "metadata": {},
   "outputs": [
    {
     "name": "stdout",
     "output_type": "stream",
     "text": [
      "['smruti' 'raja' 123 888 987 (2+3j) True False 0 1]\n",
      "object\n"
     ]
    }
   ],
   "source": [
    "# Heterogeneous -- we can store different data types here\n",
    "l=['smruti','raja',123,888,987,2+3j,True,False,0,1]\n",
    "nrr=ny.array(l,dtype='object')\n",
    "print(nrr)\n",
    "print(nrr.dtype)"
   ]
  }
 ],
 "metadata": {
  "kernelspec": {
   "display_name": "Python 3 (ipykernel)",
   "language": "python",
   "name": "python3"
  },
  "language_info": {
   "codemirror_mode": {
    "name": "ipython",
    "version": 3
   },
   "file_extension": ".py",
   "mimetype": "text/x-python",
   "name": "python",
   "nbconvert_exporter": "python",
   "pygments_lexer": "ipython3",
   "version": "3.9.12"
  }
 },
 "nbformat": 4,
 "nbformat_minor": 5
}
