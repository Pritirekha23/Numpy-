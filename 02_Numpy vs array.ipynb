{
 "cells": [
  {
   "cell_type": "markdown",
   "id": "2667a217",
   "metadata": {},
   "source": [
    "# NUMPY VS ARRAY"
   ]
  },
  {
   "cell_type": "code",
   "execution_count": null,
   "id": "717bec93",
   "metadata": {},
   "outputs": [],
   "source": [
    "#1-List ans array both are ordered collection and they both are mutable in nature. \n",
    "#2-List is used to hold both heterogeneous data where array is used to store homogeneous data items. \n",
    "#3-array consume less memory than list. \n",
    "#4-by using array,we can perform vector opeartion , but we can perform vector opearation by using list."
   ]
  },
  {
   "cell_type": "code",
   "execution_count": null,
   "id": "c36e0b7c",
   "metadata": {},
   "outputs": [],
   "source": [
    "import numpy as np\n",
    "import sys\n",
    "#python list\n",
    "l=[i for i in range(1000)]\n",
    "#numpy array\n",
    "n=np.arange(1000)\n",
    "print('size of l',sys.getsizeof(l))\n",
    "print('size of n',sys.getsizeof(n))"
   ]
  },
  {
   "cell_type": "code",
   "execution_count": null,
   "id": "714f7573",
   "metadata": {},
   "outputs": [],
   "source": [
    "# vector operation using numpy array(possible) and python list(not possible)\n",
    "# using python list(not possible)\n",
    "l=[3,4,46,7,8,5]\n",
    "data=l+2\n",
    "print(data)"
   ]
  },
  {
   "cell_type": "code",
   "execution_count": null,
   "id": "b23b93e4",
   "metadata": {},
   "outputs": [],
   "source": [
    "# using numpy array\n",
    "n=np.arange(10)\n",
    "print(n)\n",
    "data=n+2\n",
    "print(data)"
   ]
  }
 ],
 "metadata": {
  "kernelspec": {
   "display_name": "Python 3 (ipykernel)",
   "language": "python",
   "name": "python3"
  },
  "language_info": {
   "codemirror_mode": {
    "name": "ipython",
    "version": 3
   },
   "file_extension": ".py",
   "mimetype": "text/x-python",
   "name": "python",
   "nbconvert_exporter": "python",
   "pygments_lexer": "ipython3",
   "version": "3.9.12"
  }
 },
 "nbformat": 4,
 "nbformat_minor": 5
}
