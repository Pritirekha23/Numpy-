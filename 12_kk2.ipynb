{
 "cells": [
  {
   "cell_type": "markdown",
   "id": "0921b8af",
   "metadata": {},
   "source": [
    "#Creation of ndarray using rand(),unifrom()"
   ]
  },
  {
   "cell_type": "raw",
   "id": "d700fbd1",
   "metadata": {},
   "source": [
    "#rand()\n",
    "# rand function is used to generate random float values in the range of 0 to 1 from uniform distribution samples.\n",
    "# Here 0 is included and 1 is not included.\n",
    "# If we pasws shape,it will give random values in the given shape.\n",
    "# if u r not passing any shape then it will give 1 value."
   ]
  },
  {
   "cell_type": "raw",
   "id": "007f9773",
   "metadata": {},
   "source": [
    "# Uniform Distribution\n",
    "# In Uniform Distribution the probability of x is constamt."
   ]
  },
  {
   "cell_type": "raw",
   "id": "7d1a9f12",
   "metadata": {},
   "source": [
    "#Normal Distribution\n",
    "# The probability of x is high at center and low at the start and end."
   ]
  },
  {
   "cell_type": "code",
   "execution_count": 36,
   "id": "3df34c5e",
   "metadata": {},
   "outputs": [],
   "source": [
    "import numpy as np"
   ]
  },
  {
   "cell_type": "code",
   "execution_count": 37,
   "id": "1912f713",
   "metadata": {},
   "outputs": [
    {
     "name": "stdout",
     "output_type": "stream",
     "text": [
      "0.7617609146010658\n"
     ]
    }
   ],
   "source": [
    "arr=np.random.rand()\n",
    "print(arr)"
   ]
  },
  {
   "cell_type": "code",
   "execution_count": 38,
   "id": "453e628d",
   "metadata": {},
   "outputs": [
    {
     "name": "stdout",
     "output_type": "stream",
     "text": [
      "Help on built-in function rand:\n",
      "\n",
      "rand(...) method of numpy.random.mtrand.RandomState instance\n",
      "    rand(d0, d1, ..., dn)\n",
      "    \n",
      "    Random values in a given shape.\n",
      "    \n",
      "    .. note::\n",
      "        This is a convenience function for users porting code from Matlab,\n",
      "        and wraps `random_sample`. That function takes a\n",
      "        tuple to specify the size of the output, which is consistent with\n",
      "        other NumPy functions like `numpy.zeros` and `numpy.ones`.\n",
      "    \n",
      "    Create an array of the given shape and populate it with\n",
      "    random samples from a uniform distribution\n",
      "    over ``[0, 1)``.\n",
      "    \n",
      "    Parameters\n",
      "    ----------\n",
      "    d0, d1, ..., dn : int, optional\n",
      "        The dimensions of the returned array, must be non-negative.\n",
      "        If no argument is given a single Python float is returned.\n",
      "    \n",
      "    Returns\n",
      "    -------\n",
      "    out : ndarray, shape ``(d0, d1, ..., dn)``\n",
      "        Random values.\n",
      "    \n",
      "    See Also\n",
      "    --------\n",
      "    random\n",
      "    \n",
      "    Examples\n",
      "    --------\n",
      "    >>> np.random.rand(3,2)\n",
      "    array([[ 0.14022471,  0.96360618],  #random\n",
      "           [ 0.37601032,  0.25528411],  #random\n",
      "           [ 0.49313049,  0.94909878]]) #random\n",
      "\n"
     ]
    }
   ],
   "source": [
    "help(np.random.rand)"
   ]
  },
  {
   "cell_type": "code",
   "execution_count": 39,
   "id": "24cf0701",
   "metadata": {},
   "outputs": [
    {
     "name": "stdout",
     "output_type": "stream",
     "text": [
      "[[0.116149   0.61352105]\n",
      " [0.39288315 0.44855597]]\n"
     ]
    }
   ],
   "source": [
    "arr=np.random.rand(2,2)\n",
    "print(arr)"
   ]
  },
  {
   "cell_type": "code",
   "execution_count": 40,
   "id": "7f936e33",
   "metadata": {},
   "outputs": [
    {
     "name": "stdout",
     "output_type": "stream",
     "text": [
      "[[[0.12813187 0.31349118]\n",
      "  [0.39456459 0.51337222]]\n",
      "\n",
      " [[0.05718064 0.75047048]\n",
      "  [0.18574777 0.73218576]]\n",
      "\n",
      " [[0.56807104 0.77628763]\n",
      "  [0.98907657 0.68405542]]]\n"
     ]
    }
   ],
   "source": [
    "arr=np.random.rand(3,2,2)\n",
    "print(arr)"
   ]
  },
  {
   "cell_type": "code",
   "execution_count": 41,
   "id": "ff279a6e",
   "metadata": {},
   "outputs": [
    {
     "name": "stdout",
     "output_type": "stream",
     "text": [
      "[0.8362051  0.27213458 0.15401298 ... 0.12859153 0.40403371 0.91684542]\n"
     ]
    }
   ],
   "source": [
    "arr=np.random.rand(100,100.)\n",
    "print(arr)"
   ]
  },
  {
   "cell_type": "code",
   "execution_count": null,
   "id": "3cffaa09",
   "metadata": {},
   "outputs": [],
   "source": []
  },
  {
   "cell_type": "code",
   "execution_count": null,
   "id": "d360a39e",
   "metadata": {},
   "outputs": [],
   "source": []
  }
 ],
 "metadata": {
  "kernelspec": {
   "display_name": "Python 3 (ipykernel)",
   "language": "python",
   "name": "python3"
  },
  "language_info": {
   "codemirror_mode": {
    "name": "ipython",
    "version": 3
   },
   "file_extension": ".py",
   "mimetype": "text/x-python",
   "name": "python",
   "nbconvert_exporter": "python",
   "pygments_lexer": "ipython3",
   "version": "3.9.12"
  }
 },
 "nbformat": 4,
 "nbformat_minor": 5
}
