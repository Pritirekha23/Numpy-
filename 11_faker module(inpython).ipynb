{
 "cells": [
  {
   "cell_type": "markdown",
   "id": "8ce2a7c9",
   "metadata": {},
   "source": [
    "# faker module"
   ]
  },
  {
   "cell_type": "code",
   "execution_count": 26,
   "id": "16a50a02",
   "metadata": {},
   "outputs": [
    {
     "name": "stdout",
     "output_type": "stream",
     "text": [
      "Defaulting to user installation because normal site-packages is not writeable\n"
     ]
    },
    {
     "name": "stderr",
     "output_type": "stream",
     "text": [
      "WARNING: Retrying (Retry(total=4, connect=None, read=None, redirect=None, status=None)) after connection broken by 'NewConnectionError('<pip._vendor.urllib3.connection.HTTPSConnection object at 0x000001C427372E20>: Failed to establish a new connection: [Errno 11001] getaddrinfo failed')': /simple/faker/\n",
      "WARNING: Retrying (Retry(total=3, connect=None, read=None, redirect=None, status=None)) after connection broken by 'NewConnectionError('<pip._vendor.urllib3.connection.HTTPSConnection object at 0x000001C42737A610>: Failed to establish a new connection: [Errno 11001] getaddrinfo failed')': /simple/faker/\n",
      "WARNING: Retrying (Retry(total=2, connect=None, read=None, redirect=None, status=None)) after connection broken by 'NewConnectionError('<pip._vendor.urllib3.connection.HTTPSConnection object at 0x000001C42737A070>: Failed to establish a new connection: [Errno 11001] getaddrinfo failed')': /simple/faker/\n",
      "WARNING: Retrying (Retry(total=1, connect=None, read=None, redirect=None, status=None)) after connection broken by 'NewConnectionError('<pip._vendor.urllib3.connection.HTTPSConnection object at 0x000001C42737A910>: Failed to establish a new connection: [Errno 11001] getaddrinfo failed')': /simple/faker/\n",
      "WARNING: Retrying (Retry(total=0, connect=None, read=None, redirect=None, status=None)) after connection broken by 'NewConnectionError('<pip._vendor.urllib3.connection.HTTPSConnection object at 0x000001C42737AAC0>: Failed to establish a new connection: [Errno 11001] getaddrinfo failed')': /simple/faker/\n",
      "ERROR: Could not find a version that satisfies the requirement Faker (from versions: none)\n",
      "ERROR: No matching distribution found for Faker\n"
     ]
    }
   ],
   "source": [
    "!pip install Faker"
   ]
  },
  {
   "cell_type": "code",
   "execution_count": null,
   "id": "0440d29b",
   "metadata": {},
   "outputs": [],
   "source": [
    "from faker import Faker\n",
    "# object creation\n",
    "fk=faker\n",
    "print(fk.name)"
   ]
  },
  {
   "cell_type": "code",
   "execution_count": null,
   "id": "adeb8487",
   "metadata": {},
   "outputs": [],
   "source": []
  }
 ],
 "metadata": {
  "kernelspec": {
   "display_name": "Python 3 (ipykernel)",
   "language": "python",
   "name": "python3"
  },
  "language_info": {
   "codemirror_mode": {
    "name": "ipython",
    "version": 3
   },
   "file_extension": ".py",
   "mimetype": "text/x-python",
   "name": "python",
   "nbconvert_exporter": "python",
   "pygments_lexer": "ipython3",
   "version": "3.9.12"
  }
 },
 "nbformat": 4,
 "nbformat_minor": 5
}
