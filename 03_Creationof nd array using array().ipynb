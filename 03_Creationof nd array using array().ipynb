{
 "cells": [
  {
   "cell_type": "markdown",
   "id": "6182c389",
   "metadata": {},
   "source": [
    "# Creation of ndarray using array()"
   ]
  },
  {
   "cell_type": "markdown",
   "id": "0a4f816b",
   "metadata": {},
   "source": [
    "creation of 1D array using aarray() from list or tuple"
   ]
  },
  {
   "cell_type": "code",
   "execution_count": 2,
   "id": "01be696c",
   "metadata": {},
   "outputs": [
    {
     "name": "stdout",
     "output_type": "stream",
     "text": [
      "[23, 43, 53, 63, 73]\n",
      "<class 'list'>\n"
     ]
    }
   ],
   "source": [
    "#list\n",
    "l=[23,43,53,63,73]\n",
    "print(l)\n",
    "print(type(l))"
   ]
  },
  {
   "cell_type": "code",
   "execution_count": 10,
   "id": "5dec3926",
   "metadata": {},
   "outputs": [
    {
     "name": "stdout",
     "output_type": "stream",
     "text": [
      "list is: [23, 43, 53, 63, 73]\n",
      "<class 'list'>\n",
      "array is: [23 43 53 63 73]\n",
      "<class 'numpy.ndarray'>\n"
     ]
    }
   ],
   "source": [
    "import numpy as np\n",
    "l=[23,43,53,63,73]\n",
    "print('list is:',l)\n",
    "print(type(l))\n",
    "\n",
    "arr=np.array(l)  # converting list to 1D array\n",
    "print('array is:',arr)\n",
    "print(type(arr))"
   ]
  },
  {
   "cell_type": "code",
   "execution_count": 12,
   "id": "145d5a64",
   "metadata": {},
   "outputs": [
    {
     "name": "stdout",
     "output_type": "stream",
     "text": [
      "<class 'tuple'>\n",
      "[ 2 34  5  6  9]\n",
      "<class 'numpy.ndarray'>\n"
     ]
    }
   ],
   "source": [
    "# creation of 1D array from tuple\n",
    "t=(2,34,5,6,9)\n",
    "print(type(t))\n",
    "\n",
    "arr=np.array(t) # convert tuple to 1D array\n",
    "print(arr)\n",
    "print(type(arr))"
   ]
  },
  {
   "cell_type": "markdown",
   "id": "c7699ce6",
   "metadata": {},
   "source": [
    "# Checking different properties  of ndarray"
   ]
  },
  {
   "cell_type": "code",
   "execution_count": 23,
   "id": "6e54f9a9",
   "metadata": {},
   "outputs": [
    {
     "name": "stdout",
     "output_type": "stream",
     "text": [
      "array is: [23 43 53 63 73]\n",
      "dimension is: 1\n"
     ]
    }
   ],
   "source": [
    "# check dimension \n",
    "l=[23,43,53,63,73]\n",
    "pr=np.array(l)  # converting list to 1D array\n",
    "print('array is:',pr)\n",
    "print('dimension is:',pr.ndim)"
   ]
  },
  {
   "cell_type": "code",
   "execution_count": 21,
   "id": "2a0bc470",
   "metadata": {},
   "outputs": [
    {
     "name": "stdout",
     "output_type": "stream",
     "text": [
      "shape is: (8,)\n"
     ]
    }
   ],
   "source": [
    "# checking shpae \n",
    "l=[3,4,5,6,7,8,89,37]\n",
    "ar=np.array(l)\n",
    "print('shape is:',ar.shape)"
   ]
  },
  {
   "cell_type": "code",
   "execution_count": 24,
   "id": "3c044be1",
   "metadata": {},
   "outputs": [
    {
     "name": "stdout",
     "output_type": "stream",
     "text": [
      "size is: 5\n"
     ]
    }
   ],
   "source": [
    "# checking size\n",
    "# size means the number of elements\n",
    "print('size is:',pr.size)"
   ]
  },
  {
   "cell_type": "code",
   "execution_count": 25,
   "id": "ef679c7e",
   "metadata": {},
   "outputs": [
    {
     "name": "stdout",
     "output_type": "stream",
     "text": [
      "data type is: int32\n"
     ]
    }
   ],
   "source": [
    "# checking data type\n",
    "print('data type is:',pr.dtype)"
   ]
  },
  {
   "cell_type": "markdown",
   "id": "a3635927",
   "metadata": {},
   "source": [
    "creation of 2D array from nested list using array()"
   ]
  },
  {
   "cell_type": "code",
   "execution_count": 26,
   "id": "2f6bb2fe",
   "metadata": {},
   "outputs": [
    {
     "name": "stdout",
     "output_type": "stream",
     "text": [
      "[[10 20 30]\n",
      " [40 50 60]\n",
      " [70 80 90]]\n"
     ]
    }
   ],
   "source": [
    "l1=[[10,20,30],[40,50,60],[70,80,90]]\n",
    "tr=np.array(l1)\n",
    "print(tr)"
   ]
  },
  {
   "cell_type": "code",
   "execution_count": 30,
   "id": "0f46eeac",
   "metadata": {},
   "outputs": [
    {
     "name": "stdout",
     "output_type": "stream",
     "text": [
      "2\n",
      "(3, 3)\n",
      "9\n",
      "int32\n"
     ]
    }
   ],
   "source": [
    "# checking different properties \n",
    "print(tr.ndim)\n",
    "print(tr.shape)\n",
    "print(tr.size)\n",
    "print(tr.dtype)"
   ]
  },
  {
   "cell_type": "markdown",
   "id": "3e5c7136",
   "metadata": {},
   "source": [
    "creation of 3D array from nested matrix using array()"
   ]
  },
  {
   "cell_type": "code",
   "execution_count": 43,
   "id": "c4b28240",
   "metadata": {},
   "outputs": [
    {
     "name": "stdout",
     "output_type": "stream",
     "text": [
      "[[[1, 2, 3], [4, 5, 6], [7, 8, 9]], [[2, 2, 2], [3, 3, 3], [5, 5, 5]]]\n",
      "<class 'list'>\n",
      "[[[1 2 3]\n",
      "  [4 5 6]\n",
      "  [7 8 9]]\n",
      "\n",
      " [[2 2 2]\n",
      "  [3 3 3]\n",
      "  [5 5 5]]]\n",
      "3\n",
      "(2, 3, 3)\n",
      "18\n",
      "int32\n"
     ]
    }
   ],
   "source": [
    "l=[[[1,2,3],[4,5,6],[7,8,9]],[[2,2,2],[3,3,3],[5,5,5]]]\n",
    "\n",
    "print(l)\n",
    "print(type(l))\n",
    "\n",
    "gr=np.array(l)\n",
    "\n",
    "print(gr)\n",
    "\n",
    "\n",
    "# cheching different properties of 3D array\n",
    "print(gr.ndim)\n",
    "print(gr.shape)\n",
    "print(gr.size)\n",
    "print(gr.dtype)"
   ]
  },
  {
   "cell_type": "code",
   "execution_count": 45,
   "id": "cf2a7642",
   "metadata": {},
   "outputs": [
    {
     "name": "stdout",
     "output_type": "stream",
     "text": [
      "[122.    33.    44.     5.58   6.6 ]\n"
     ]
    }
   ],
   "source": [
    "# upcasting\n",
    "l=[122,33,44,5.58,6.6]\n",
    "arrr=np.array(l) # upcasting\n",
    "print(arrr)"
   ]
  }
 ],
 "metadata": {
  "kernelspec": {
   "display_name": "Python 3 (ipykernel)",
   "language": "python",
   "name": "python3"
  },
  "language_info": {
   "codemirror_mode": {
    "name": "ipython",
    "version": 3
   },
   "file_extension": ".py",
   "mimetype": "text/x-python",
   "name": "python",
   "nbconvert_exporter": "python",
   "pygments_lexer": "ipython3",
   "version": "3.9.12"
  }
 },
 "nbformat": 4,
 "nbformat_minor": 5
}
