{
 "cells": [
  {
   "cell_type": "markdown",
   "id": "227e498a",
   "metadata": {},
   "source": [
    "# Creation of ndarray using arange() and linspace()"
   ]
  },
  {
   "cell_type": "markdown",
   "id": "57b7cb59",
   "metadata": {},
   "source": [
    "### 1 Creation of ndarray using arnge()"
   ]
  },
  {
   "cell_type": "code",
   "execution_count": 3,
   "id": "9fc20420",
   "metadata": {},
   "outputs": [
    {
     "name": "stdout",
     "output_type": "stream",
     "text": [
      "[0 1 2 3 4 5 6 7 8 9]\n",
      "(10,)\n",
      "10\n",
      "int32\n",
      "1\n"
     ]
    }
   ],
   "source": [
    "import numpy as np\n",
    "arr=np.arange(10)\n",
    "print(arr)\n",
    "print(arr.shape)\n",
    "print(arr.size)\n",
    "print(arr.dtype)\n",
    "print(arr.ndim)"
   ]
  },
  {
   "cell_type": "code",
   "execution_count": 5,
   "id": "5925f85b",
   "metadata": {},
   "outputs": [
    {
     "name": "stdout",
     "output_type": "stream",
     "text": [
      "[10 11 12 13 14 15 16 17 18 19]\n"
     ]
    }
   ],
   "source": [
    "ar=np.arange(10,20)\n",
    "print(ar)"
   ]
  },
  {
   "cell_type": "code",
   "execution_count": 6,
   "id": "ad6c0c1d",
   "metadata": {},
   "outputs": [
    {
     "name": "stdout",
     "output_type": "stream",
     "text": [
      "[10 12 14 16 18 20 22 24 26 28]\n"
     ]
    }
   ],
   "source": [
    "ar=np.arange(10,30,2)\n",
    "print(ar)"
   ]
  },
  {
   "cell_type": "markdown",
   "id": "e90d3727",
   "metadata": {},
   "source": [
    "### Creation of ndarray using arange() with specific datatype"
   ]
  },
  {
   "cell_type": "code",
   "execution_count": 7,
   "id": "dfe3af96",
   "metadata": {},
   "outputs": [
    {
     "name": "stdout",
     "output_type": "stream",
     "text": [
      "[0 1 2 3 4 5 6 7 8 9]\n"
     ]
    }
   ],
   "source": [
    "ai=np.arange(10,dtype='int')\n",
    "print(ai)\n",
    "ai=np.arange(10,dtype='float')\n",
    "print(ai)\n"
   ]
  },
  {
   "cell_type": "code",
   "execution_count": 9,
   "id": "e4533d57",
   "metadata": {},
   "outputs": [
    {
     "name": "stdout",
     "output_type": "stream",
     "text": [
      "Help on built-in function arange in module numpy:\n",
      "\n",
      "arange(...)\n",
      "    arange([start,] stop[, step,], dtype=None, *, like=None)\n",
      "    \n",
      "    Return evenly spaced values within a given interval.\n",
      "    \n",
      "    Values are generated within the half-open interval ``[start, stop)``\n",
      "    (in other words, the interval including `start` but excluding `stop`).\n",
      "    For integer arguments the function is equivalent to the Python built-in\n",
      "    `range` function, but returns an ndarray rather than a list.\n",
      "    \n",
      "    When using a non-integer step, such as 0.1, the results will often not\n",
      "    be consistent.  It is better to use `numpy.linspace` for these cases.\n",
      "    \n",
      "    Parameters\n",
      "    ----------\n",
      "    start : integer or real, optional\n",
      "        Start of interval.  The interval includes this value.  The default\n",
      "        start value is 0.\n",
      "    stop : integer or real\n",
      "        End of interval.  The interval does not include this value, except\n",
      "        in some cases where `step` is not an integer and floating point\n",
      "        round-off affects the length of `out`.\n",
      "    step : integer or real, optional\n",
      "        Spacing between values.  For any output `out`, this is the distance\n",
      "        between two adjacent values, ``out[i+1] - out[i]``.  The default\n",
      "        step size is 1.  If `step` is specified as a position argument,\n",
      "        `start` must also be given.\n",
      "    dtype : dtype\n",
      "        The type of the output array.  If `dtype` is not given, infer the data\n",
      "        type from the other input arguments.\n",
      "    like : array_like\n",
      "        Reference object to allow the creation of arrays which are not\n",
      "        NumPy arrays. If an array-like passed in as ``like`` supports\n",
      "        the ``__array_function__`` protocol, the result will be defined\n",
      "        by it. In this case, it ensures the creation of an array object\n",
      "        compatible with that passed in via this argument.\n",
      "    \n",
      "        .. versionadded:: 1.20.0\n",
      "    \n",
      "    Returns\n",
      "    -------\n",
      "    arange : ndarray\n",
      "        Array of evenly spaced values.\n",
      "    \n",
      "        For floating point arguments, the length of the result is\n",
      "        ``ceil((stop - start)/step)``.  Because of floating point overflow,\n",
      "        this rule may result in the last element of `out` being greater\n",
      "        than `stop`.\n",
      "    \n",
      "    See Also\n",
      "    --------\n",
      "    numpy.linspace : Evenly spaced numbers with careful handling of endpoints.\n",
      "    numpy.ogrid: Arrays of evenly spaced numbers in N-dimensions.\n",
      "    numpy.mgrid: Grid-shaped arrays of evenly spaced numbers in N-dimensions.\n",
      "    \n",
      "    Examples\n",
      "    --------\n",
      "    >>> np.arange(3)\n",
      "    array([0, 1, 2])\n",
      "    >>> np.arange(3.0)\n",
      "    array([ 0.,  1.,  2.])\n",
      "    >>> np.arange(3,7)\n",
      "    array([3, 4, 5, 6])\n",
      "    >>> np.arange(3,7,2)\n",
      "    array([3, 5])\n",
      "\n",
      "None\n"
     ]
    }
   ],
   "source": [
    " print(help(np.arange))"
   ]
  },
  {
   "cell_type": "markdown",
   "id": "66fbc671",
   "metadata": {},
   "source": [
    "### 2 creation of ndarray using linspace() function"
   ]
  },
  {
   "cell_type": "code",
   "execution_count": 10,
   "id": "58807988",
   "metadata": {},
   "outputs": [
    {
     "name": "stdout",
     "output_type": "stream",
     "text": [
      "Help on function linspace in module numpy:\n",
      "\n",
      "linspace(start, stop, num=50, endpoint=True, retstep=False, dtype=None, axis=0)\n",
      "    Return evenly spaced numbers over a specified interval.\n",
      "    \n",
      "    Returns `num` evenly spaced samples, calculated over the\n",
      "    interval [`start`, `stop`].\n",
      "    \n",
      "    The endpoint of the interval can optionally be excluded.\n",
      "    \n",
      "    .. versionchanged:: 1.16.0\n",
      "        Non-scalar `start` and `stop` are now supported.\n",
      "    \n",
      "    .. versionchanged:: 1.20.0\n",
      "        Values are rounded towards ``-inf`` instead of ``0`` when an\n",
      "        integer ``dtype`` is specified. The old behavior can\n",
      "        still be obtained with ``np.linspace(start, stop, num).astype(int)``\n",
      "    \n",
      "    Parameters\n",
      "    ----------\n",
      "    start : array_like\n",
      "        The starting value of the sequence.\n",
      "    stop : array_like\n",
      "        The end value of the sequence, unless `endpoint` is set to False.\n",
      "        In that case, the sequence consists of all but the last of ``num + 1``\n",
      "        evenly spaced samples, so that `stop` is excluded.  Note that the step\n",
      "        size changes when `endpoint` is False.\n",
      "    num : int, optional\n",
      "        Number of samples to generate. Default is 50. Must be non-negative.\n",
      "    endpoint : bool, optional\n",
      "        If True, `stop` is the last sample. Otherwise, it is not included.\n",
      "        Default is True.\n",
      "    retstep : bool, optional\n",
      "        If True, return (`samples`, `step`), where `step` is the spacing\n",
      "        between samples.\n",
      "    dtype : dtype, optional\n",
      "        The type of the output array.  If `dtype` is not given, the data type\n",
      "        is inferred from `start` and `stop`. The inferred dtype will never be\n",
      "        an integer; `float` is chosen even if the arguments would produce an\n",
      "        array of integers.\n",
      "    \n",
      "        .. versionadded:: 1.9.0\n",
      "    \n",
      "    axis : int, optional\n",
      "        The axis in the result to store the samples.  Relevant only if start\n",
      "        or stop are array-like.  By default (0), the samples will be along a\n",
      "        new axis inserted at the beginning. Use -1 to get an axis at the end.\n",
      "    \n",
      "        .. versionadded:: 1.16.0\n",
      "    \n",
      "    Returns\n",
      "    -------\n",
      "    samples : ndarray\n",
      "        There are `num` equally spaced samples in the closed interval\n",
      "        ``[start, stop]`` or the half-open interval ``[start, stop)``\n",
      "        (depending on whether `endpoint` is True or False).\n",
      "    step : float, optional\n",
      "        Only returned if `retstep` is True\n",
      "    \n",
      "        Size of spacing between samples.\n",
      "    \n",
      "    \n",
      "    See Also\n",
      "    --------\n",
      "    arange : Similar to `linspace`, but uses a step size (instead of the\n",
      "             number of samples).\n",
      "    geomspace : Similar to `linspace`, but with numbers spaced evenly on a log\n",
      "                scale (a geometric progression).\n",
      "    logspace : Similar to `geomspace`, but with the end points specified as\n",
      "               logarithms.\n",
      "    \n",
      "    Examples\n",
      "    --------\n",
      "    >>> np.linspace(2.0, 3.0, num=5)\n",
      "    array([2.  , 2.25, 2.5 , 2.75, 3.  ])\n",
      "    >>> np.linspace(2.0, 3.0, num=5, endpoint=False)\n",
      "    array([2. ,  2.2,  2.4,  2.6,  2.8])\n",
      "    >>> np.linspace(2.0, 3.0, num=5, retstep=True)\n",
      "    (array([2.  ,  2.25,  2.5 ,  2.75,  3.  ]), 0.25)\n",
      "    \n",
      "    Graphical illustration:\n",
      "    \n",
      "    >>> import matplotlib.pyplot as plt\n",
      "    >>> N = 8\n",
      "    >>> y = np.zeros(N)\n",
      "    >>> x1 = np.linspace(0, 10, N, endpoint=True)\n",
      "    >>> x2 = np.linspace(0, 10, N, endpoint=False)\n",
      "    >>> plt.plot(x1, y, 'o')\n",
      "    [<matplotlib.lines.Line2D object at 0x...>]\n",
      "    >>> plt.plot(x2, y + 0.5, 'o')\n",
      "    [<matplotlib.lines.Line2D object at 0x...>]\n",
      "    >>> plt.ylim([-0.5, 1])\n",
      "    (-0.5, 1)\n",
      "    >>> plt.show()\n",
      "\n",
      "None\n"
     ]
    }
   ],
   "source": [
    "print(help(np.linspace))"
   ]
  },
  {
   "cell_type": "code",
   "execution_count": 47,
   "id": "d02fd3e4",
   "metadata": {},
   "outputs": [
    {
     "name": "stdout",
     "output_type": "stream",
     "text": [
      "[0.         0.02040816 0.04081633 0.06122449 0.08163265 0.10204082\n",
      " 0.12244898 0.14285714 0.16326531 0.18367347 0.20408163 0.2244898\n",
      " 0.24489796 0.26530612 0.28571429 0.30612245 0.32653061 0.34693878\n",
      " 0.36734694 0.3877551  0.40816327 0.42857143 0.44897959 0.46938776\n",
      " 0.48979592 0.51020408 0.53061224 0.55102041 0.57142857 0.59183673\n",
      " 0.6122449  0.63265306 0.65306122 0.67346939 0.69387755 0.71428571\n",
      " 0.73469388 0.75510204 0.7755102  0.79591837 0.81632653 0.83673469\n",
      " 0.85714286 0.87755102 0.89795918 0.91836735 0.93877551 0.95918367\n",
      " 0.97959184 1.        ]\n",
      "(50,)\n",
      "50\n",
      "float64\n",
      "1\n"
     ]
    }
   ],
   "source": [
    "am=np.linspace(0,1) # start=0, stop=1 (both are included) \n",
    " # The gap between each valueis same , linspace(start, stop, num=50, endpoint=True, retstep=False, dtype=None, axis=0)\n",
    "  #  Return evenly spaced numbers over a specified interval. here num is 50 by defaulr so it give 5 element\n",
    "print(am)\n",
    "print(am.shape)\n",
    "print(am.size)\n",
    "print(am.dtype)\n",
    "print(am.ndim)"
   ]
  },
  {
   "cell_type": "code",
   "execution_count": 44,
   "id": "b9cd16ce",
   "metadata": {},
   "outputs": [
    {
     "name": "stdout",
     "output_type": "stream",
     "text": [
      "[0.  1.5 3.  4.5 6. ]\n"
     ]
    }
   ],
   "source": [
    "am=np.linspace(0,6,num=5) # start=0, stop=6 (both are included)\n",
    "print(am)   # evenly spaced value \n",
    "# If u not provide any num value so by default it give 50 value\n",
    "print(am.shape)\n",
    "print(am.size)\n",
    "print(am.dtype)\n",
    "print(am.ndim)"
   ]
  },
  {
   "cell_type": "code",
   "execution_count": 46,
   "id": "bdf21506",
   "metadata": {},
   "outputs": [
    {
     "name": "stdout",
     "output_type": "stream",
     "text": [
      "[1.         1.66666667 2.33333333 3.         3.66666667 4.33333333\n",
      " 5.         5.66666667 6.33333333 7.        ]\n",
      "(10,)\n",
      "10\n",
      "float64\n",
      "1\n"
     ]
    }
   ],
   "source": [
    "am=np.linspace(1,7,num=10) # start=1, stop=7 (both are included)\n",
    "print(am)\n",
    "print(am.shape)\n",
    "print(am.size)\n",
    "print(am.dtype)\n",
    "print(am.ndim)"
   ]
  },
  {
   "cell_type": "code",
   "execution_count": 48,
   "id": "86ed1abf",
   "metadata": {},
   "outputs": [
    {
     "name": "stdout",
     "output_type": "stream",
     "text": [
      "[1 1 2 3 3 4 5 5 6 7]\n",
      "(10,)\n",
      "10\n",
      "int32\n",
      "1\n"
     ]
    }
   ],
   "source": [
    "am=np.linspace(1,7,num=10,dtype='int') \n",
    "print(am)\n",
    "print(am.shape)\n",
    "print(am.size)\n",
    "print(am.dtype)\n",
    "print(am.ndim)"
   ]
  },
  {
   "cell_type": "code",
   "execution_count": 50,
   "id": "96ed9564",
   "metadata": {},
   "outputs": [
    {
     "name": "stdout",
     "output_type": "stream",
     "text": [
      "[100 111 122 133 144 155 166 177 188 200]\n",
      "(10,)\n",
      "10\n",
      "int32\n",
      "1\n"
     ]
    }
   ],
   "source": [
    "am=np.linspace(100,200,num=10,dtype='int')\n",
    "print(am)\n",
    "print(am.shape)\n",
    "print(am.size)\n",
    "print(am.dtype)\n",
    "print(am.ndim)"
   ]
  },
  {
   "cell_type": "code",
   "execution_count": 51,
   "id": "6612eaab",
   "metadata": {},
   "outputs": [
    {
     "name": "stdout",
     "output_type": "stream",
     "text": [
      "[100 110 120 130 140 150 160 170 180 190]\n",
      "(10,)\n",
      "10\n",
      "int32\n",
      "1\n"
     ]
    }
   ],
   "source": [
    "# endpoint= if u write endpoint=false then it will not include 200\n",
    "am=np.linspace(100,200,num=10,dtype='int',endpoint=False)\n",
    "print(am)\n",
    "print(am.shape)\n",
    "print(am.size)\n",
    "print(am.dtype)\n",
    "print(am.ndim)"
   ]
  },
  {
   "cell_type": "code",
   "execution_count": 54,
   "id": "203ef841",
   "metadata": {},
   "outputs": [
    {
     "name": "stdout",
     "output_type": "stream",
     "text": [
      "(array([100.        , 111.11111111, 122.22222222, 133.33333333,\n",
      "       144.44444444, 155.55555556, 166.66666667, 177.77777778,\n",
      "       188.88888889, 200.        ]), 11.11111111111111)\n"
     ]
    },
    {
     "ename": "AttributeError",
     "evalue": "'tuple' object has no attribute 'shape'",
     "output_type": "error",
     "traceback": [
      "\u001b[1;31m---------------------------------------------------------------------------\u001b[0m",
      "\u001b[1;31mAttributeError\u001b[0m                            Traceback (most recent call last)",
      "Input \u001b[1;32mIn [54]\u001b[0m, in \u001b[0;36m<cell line: 4>\u001b[1;34m()\u001b[0m\n\u001b[0;32m      2\u001b[0m am\u001b[38;5;241m=\u001b[39mnp\u001b[38;5;241m.\u001b[39mlinspace(\u001b[38;5;241m100\u001b[39m,\u001b[38;5;241m200\u001b[39m,num\u001b[38;5;241m=\u001b[39m\u001b[38;5;241m10\u001b[39m,retstep\u001b[38;5;241m=\u001b[39m\u001b[38;5;28;01mTrue\u001b[39;00m)\n\u001b[0;32m      3\u001b[0m \u001b[38;5;28mprint\u001b[39m(am)\n\u001b[1;32m----> 4\u001b[0m \u001b[38;5;28mprint\u001b[39m(\u001b[43mam\u001b[49m\u001b[38;5;241;43m.\u001b[39;49m\u001b[43mshape\u001b[49m)\n\u001b[0;32m      5\u001b[0m \u001b[38;5;28mprint\u001b[39m(am\u001b[38;5;241m.\u001b[39msize)\n\u001b[0;32m      6\u001b[0m \u001b[38;5;28mprint\u001b[39m(am\u001b[38;5;241m.\u001b[39mdtype)\n",
      "\u001b[1;31mAttributeError\u001b[0m: 'tuple' object has no attribute 'shape'"
     ]
    }
   ],
   "source": [
    "# retstep=false -> by default it is false , if u want to know the gap value then use retstep=True\n",
    "am=np.linspace(100,200,num=10,retstep=True)\n",
    "print(am)\n",
    "print(am.shape)\n",
    "print(am.size)\n",
    "print(am.dtype)\n",
    "print(am.ndim)"
   ]
  },
  {
   "cell_type": "code",
   "execution_count": 69,
   "id": "abeafad0",
   "metadata": {},
   "outputs": [
    {
     "name": "stdout",
     "output_type": "stream",
     "text": [
      "11.11111111111111\n"
     ]
    }
   ],
   "source": [
    "am=np.linspace(100,200,num=10,dtype='int',retstep=True)\n",
    "print(am[-1]) # printing only the gap \n"
   ]
  },
  {
   "cell_type": "code",
   "execution_count": 70,
   "id": "da289337",
   "metadata": {},
   "outputs": [
    {
     "name": "stdout",
     "output_type": "stream",
     "text": [
      "10.0\n"
     ]
    }
   ],
   "source": [
    "am=np.linspace(100,200,num=10,dtype='int',retstep=True,endpoint=False)\n",
    "print(am) # printing only the gap \n"
   ]
  }
 ],
 "metadata": {
  "kernelspec": {
   "display_name": "Python 3 (ipykernel)",
   "language": "python",
   "name": "python3"
  },
  "language_info": {
   "codemirror_mode": {
    "name": "ipython",
    "version": 3
   },
   "file_extension": ".py",
   "mimetype": "text/x-python",
   "name": "python",
   "nbconvert_exporter": "python",
   "pygments_lexer": "ipython3",
   "version": "3.9.12"
  }
 },
 "nbformat": 4,
 "nbformat_minor": 5
}
