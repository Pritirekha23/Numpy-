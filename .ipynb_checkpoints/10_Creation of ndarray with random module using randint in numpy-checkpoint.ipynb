{
 "cells": [
  {
   "cell_type": "markdown",
   "id": "0ad20ae6",
   "metadata": {},
   "source": [
    "# Creationof ndarray using random module\n"
   ]
  },
  {
   "cell_type": "code",
   "execution_count": 7,
   "id": "836409c0",
   "metadata": {},
   "outputs": [],
   "source": [
    "# dt- 24/09/2022"
   ]
  },
  {
   "cell_type": "code",
   "execution_count": 11,
   "id": "56a9086c",
   "metadata": {},
   "outputs": [],
   "source": [
    "\n",
    "import numpy as np"
   ]
  },
  {
   "cell_type": "code",
   "execution_count": null,
   "id": "b034dd5a",
   "metadata": {},
   "outputs": [],
   "source": [
    "# randint() function"
   ]
  },
  {
   "cell_type": "code",
   "execution_count": 12,
   "id": "24e44eca",
   "metadata": {},
   "outputs": [
    {
     "name": "stdout",
     "output_type": "stream",
     "text": [
      "Help on built-in function randint:\n",
      "\n",
      "randint(...) method of numpy.random.mtrand.RandomState instance\n",
      "    randint(low, high=None, size=None, dtype=int)\n",
      "    \n",
      "    Return random integers from `low` (inclusive) to `high` (exclusive).\n",
      "    \n",
      "    Return random integers from the \"discrete uniform\" distribution of\n",
      "    the specified dtype in the \"half-open\" interval [`low`, `high`). If\n",
      "    `high` is None (the default), then results are from [0, `low`).\n",
      "    \n",
      "    .. note::\n",
      "        New code should use the ``integers`` method of a ``default_rng()``\n",
      "        instance instead; please see the :ref:`random-quick-start`.\n",
      "    \n",
      "    Parameters\n",
      "    ----------\n",
      "    low : int or array-like of ints\n",
      "        Lowest (signed) integers to be drawn from the distribution (unless\n",
      "        ``high=None``, in which case this parameter is one above the\n",
      "        *highest* such integer).\n",
      "    high : int or array-like of ints, optional\n",
      "        If provided, one above the largest (signed) integer to be drawn\n",
      "        from the distribution (see above for behavior if ``high=None``).\n",
      "        If array-like, must contain integer values\n",
      "    size : int or tuple of ints, optional\n",
      "        Output shape.  If the given shape is, e.g., ``(m, n, k)``, then\n",
      "        ``m * n * k`` samples are drawn.  Default is None, in which case a\n",
      "        single value is returned.\n",
      "    dtype : dtype, optional\n",
      "        Desired dtype of the result. Byteorder must be native.\n",
      "        The default value is int.\n",
      "    \n",
      "        .. versionadded:: 1.11.0\n",
      "    \n",
      "    Returns\n",
      "    -------\n",
      "    out : int or ndarray of ints\n",
      "        `size`-shaped array of random integers from the appropriate\n",
      "        distribution, or a single such random int if `size` not provided.\n",
      "    \n",
      "    See Also\n",
      "    --------\n",
      "    random_integers : similar to `randint`, only for the closed\n",
      "        interval [`low`, `high`], and 1 is the lowest value if `high` is\n",
      "        omitted.\n",
      "    Generator.integers: which should be used for new code.\n",
      "    \n",
      "    Examples\n",
      "    --------\n",
      "    >>> np.random.randint(2, size=10)\n",
      "    array([1, 0, 0, 0, 1, 1, 0, 0, 1, 0]) # random\n",
      "    >>> np.random.randint(1, size=10)\n",
      "    array([0, 0, 0, 0, 0, 0, 0, 0, 0, 0])\n",
      "    \n",
      "    Generate a 2 x 4 array of ints between 0 and 4, inclusive:\n",
      "    \n",
      "    >>> np.random.randint(5, size=(2, 4))\n",
      "    array([[4, 0, 2, 1], # random\n",
      "           [3, 2, 2, 0]])\n",
      "    \n",
      "    Generate a 1 x 3 array with 3 different upper bounds\n",
      "    \n",
      "    >>> np.random.randint(1, [3, 5, 10])\n",
      "    array([2, 2, 9]) # random\n",
      "    \n",
      "    Generate a 1 by 3 array with 3 different lower bounds\n",
      "    \n",
      "    >>> np.random.randint([1, 5, 7], 10)\n",
      "    array([9, 8, 7]) # random\n",
      "    \n",
      "    Generate a 2 by 4 array using broadcasting with dtype of uint8\n",
      "    \n",
      "    >>> np.random.randint([1, 3, 5, 7], [[10], [20]], dtype=np.uint8)\n",
      "    array([[ 8,  6,  9,  7], # random\n",
      "           [ 1, 16,  9, 12]], dtype=uint8)\n",
      "\n"
     ]
    }
   ],
   "source": [
    "help(np.random.randint)"
   ]
  },
  {
   "cell_type": "code",
   "execution_count": 64,
   "id": "848c07a3",
   "metadata": {},
   "outputs": [
    {
     "data": {
      "text/plain": [
       "7"
      ]
     },
     "execution_count": 64,
     "metadata": {},
     "output_type": "execute_result"
    }
   ],
   "source": [
    "# generate a random number\n",
    "# it will generate a random integer number within 1 to 9(10 is not included)\n",
    "pr=np.random.randint(10)\n",
    "pr"
   ]
  },
  {
   "cell_type": "code",
   "execution_count": 69,
   "id": "f21ddae4",
   "metadata": {},
   "outputs": [
    {
     "name": "stdout",
     "output_type": "stream",
     "text": [
      "9\n",
      "8\n",
      "9\n",
      "2\n",
      "7\n",
      "5\n",
      "4\n",
      "7\n",
      "9\n",
      "9\n"
     ]
    }
   ],
   "source": [
    "# generate 10 random number\n",
    "for i in range(10):\n",
    "    ar=np.random.randint(10)\n",
    "    print(ar)"
   ]
  },
  {
   "cell_type": "code",
   "execution_count": 106,
   "id": "4271125d",
   "metadata": {},
   "outputs": [
    {
     "name": "stdout",
     "output_type": "stream",
     "text": [
      "106\n"
     ]
    }
   ],
   "source": [
    "# creation of ndarray using randint()\n",
    "# 1D-array\n",
    "# 290 is not invluded\n",
    "arr=np.random.randint(1,290)\n",
    "print(arr)"
   ]
  },
  {
   "cell_type": "code",
   "execution_count": 112,
   "id": "1dd68ada",
   "metadata": {},
   "outputs": [
    {
     "name": "stdout",
     "output_type": "stream",
     "text": [
      "[201 201  21  38  32]\n"
     ]
    }
   ],
   "source": [
    "# if u give size then u will get 1D array ya 2D array etc but if u not mention the size then u get an element only\n",
    "arr=np.random.randint(1,290,size=(5))\n",
    "print(arr)"
   ]
  },
  {
   "cell_type": "code",
   "execution_count": 114,
   "id": "6cfbe106",
   "metadata": {},
   "outputs": [
    {
     "name": "stdout",
     "output_type": "stream",
     "text": [
      "[[287  46 133   2 103]\n",
      " [126  82 170 110  20]\n",
      " [  4  89 205  40 118]\n",
      " [ 79  53 211  91 209]]\n"
     ]
    }
   ],
   "source": [
    "# 2D\n",
    "# if u give size then u will get 1D array ya 2D array etc but if u not mention the size then u get an element only\n",
    "arr=np.random.randint(1,290,size=(4,5)) # 4 - row , 5- column\n",
    "print(arr)"
   ]
  },
  {
   "cell_type": "code",
   "execution_count": 118,
   "id": "21d9bf6a",
   "metadata": {},
   "outputs": [
    {
     "name": "stdout",
     "output_type": "stream",
     "text": [
      "[[[230 205 287  90 228]\n",
      "  [233 210  49  88  43]\n",
      "  [274 171 143  65 189]\n",
      "  [  9 142 208 221 249]]\n",
      "\n",
      " [[267  47 186 229 262]\n",
      "  [225 127  17 280 153]\n",
      "  [ 36  94 228  99 233]\n",
      "  [118 212  97 193   1]]]\n"
     ]
    }
   ],
   "source": [
    "# 3D\n",
    "arr=np.random.randint(1,290,size=(2,4,5))\n",
    "print(arr)"
   ]
  },
  {
   "cell_type": "code",
   "execution_count": 119,
   "id": "7f7ebfdf",
   "metadata": {},
   "outputs": [
    {
     "name": "stdout",
     "output_type": "stream",
     "text": [
      "[[[[232 215 217  53  45]\n",
      "   [275 170 198 148  57]\n",
      "   [ 40 218 153 111 145]\n",
      "   [ 10 254 196 185  98]]\n",
      "\n",
      "  [[233  72  50 129   3]\n",
      "   [195  39  54  59 113]\n",
      "   [192 279 278 161  60]\n",
      "   [ 22 222  73 263 235]]\n",
      "\n",
      "  [[ 27  84 177  16 112]\n",
      "   [242   6 175 110 161]\n",
      "   [101 151 177 210 280]\n",
      "   [139 176 130 104  81]]]\n",
      "\n",
      "\n",
      " [[[ 58   2  43 128 210]\n",
      "   [185 106 289 143 153]\n",
      "   [285 215 289 240 244]\n",
      "   [ 25 198 198 137  36]]\n",
      "\n",
      "  [[106 257 288 205 211]\n",
      "   [ 80 205 285 125 233]\n",
      "   [234 212  32  70 151]\n",
      "   [244 146 218 188 178]]\n",
      "\n",
      "  [[ 94 249 144 202 157]\n",
      "   [261   2  93 284 173]\n",
      "   [ 52 224 101 266 229]\n",
      "   [ 35 109  53 154 153]]]]\n"
     ]
    }
   ],
   "source": [
    "# 4D\n",
    "arr=np.random.randint(1,290,size=(2,3,4,5))\n",
    "print(arr)"
   ]
  },
  {
   "cell_type": "code",
   "execution_count": 124,
   "id": "3ee9e220",
   "metadata": {},
   "outputs": [
    {
     "data": {
      "text/plain": [
       "array([[16, 20, 14, 17, 16],\n",
       "       [19, 10, 19, 20, 20],\n",
       "       [20, 13, 12, 17, 18],\n",
       "       [20, 15, 13, 16, 17],\n",
       "       [14, 10, 18, 16, 10]])"
      ]
     },
     "execution_count": 124,
     "metadata": {},
     "output_type": "execute_result"
    }
   ],
   "source": [
    "# Dtype\n",
    "# dtype is by default integer \n",
    "arr=np.random.randint(10,21,size=(5,5))\n",
    "arr\n",
    "#arr.dtype # int32 default int type"
   ]
  },
  {
   "cell_type": "code",
   "execution_count": 140,
   "id": "3f585af9",
   "metadata": {},
   "outputs": [
    {
     "data": {
      "text/plain": [
       "array([[10, 12, 12, 15],\n",
       "       [10, 18, 11, 13],\n",
       "       [10, 19, 20, 15],\n",
       "       ...,\n",
       "       [20, 12, 13, 13],\n",
       "       [20, 15, 17, 13],\n",
       "       [12, 18, 17, 14]], dtype=int8)"
      ]
     },
     "execution_count": 140,
     "metadata": {},
     "output_type": "execute_result"
    }
   ],
   "source": [
    "# dtype - int8\n",
    "arr1=np.random.randint(10,21,size=(588,4),dtype='int8')\n",
    "arr1\n",
    "#print(arr1.dtype)"
   ]
  },
  {
   "cell_type": "code",
   "execution_count": 141,
   "id": "bf3eb824",
   "metadata": {},
   "outputs": [
    {
     "name": "stdout",
     "output_type": "stream",
     "text": [
      "145\n",
      "2472\n"
     ]
    }
   ],
   "source": [
    "# comaprision between dtype int8 and int32\n",
    "import sys\n",
    "print(sys.getsizeof(arr))\n",
    "print(sys.getsizeof(arr1))"
   ]
  },
  {
   "cell_type": "code",
   "execution_count": 151,
   "id": "36bc5929",
   "metadata": {},
   "outputs": [
    {
     "ename": "TypeError",
     "evalue": "Unsupported dtype dtype('float64') for randint",
     "output_type": "error",
     "traceback": [
      "\u001b[1;31m---------------------------------------------------------------------------\u001b[0m",
      "\u001b[1;31mTypeError\u001b[0m                                 Traceback (most recent call last)",
      "Input \u001b[1;32mIn [151]\u001b[0m, in \u001b[0;36m<cell line: 2>\u001b[1;34m()\u001b[0m\n\u001b[0;32m      1\u001b[0m \u001b[38;5;66;03m# suppose i want to create 3*3 ndarray using randint but i want float data\u001b[39;00m\n\u001b[1;32m----> 2\u001b[0m arr\u001b[38;5;241m=\u001b[39m\u001b[43mnp\u001b[49m\u001b[38;5;241;43m.\u001b[39;49m\u001b[43mrandom\u001b[49m\u001b[38;5;241;43m.\u001b[39;49m\u001b[43mrandint\u001b[49m\u001b[43m(\u001b[49m\u001b[38;5;241;43m20\u001b[39;49m\u001b[43m,\u001b[49m\u001b[38;5;241;43m31\u001b[39;49m\u001b[43m,\u001b[49m\u001b[43msize\u001b[49m\u001b[38;5;241;43m=\u001b[39;49m\u001b[43m(\u001b[49m\u001b[38;5;241;43m2\u001b[39;49m\u001b[43m,\u001b[49m\u001b[38;5;241;43m4\u001b[39;49m\u001b[43m)\u001b[49m\u001b[43m,\u001b[49m\u001b[43mdtype\u001b[49m\u001b[38;5;241;43m=\u001b[39;49m\u001b[38;5;28;43mfloat\u001b[39;49m\u001b[43m)\u001b[49m \u001b[38;5;66;03m# it is unsopported so we can convert this int based array to float based array\u001b[39;00m\n\u001b[0;32m      3\u001b[0m arr\n",
      "File \u001b[1;32mmtrand.pyx:764\u001b[0m, in \u001b[0;36mnumpy.random.mtrand.RandomState.randint\u001b[1;34m()\u001b[0m\n",
      "\u001b[1;31mTypeError\u001b[0m: Unsupported dtype dtype('float64') for randint"
     ]
    }
   ],
   "source": [
    "# suppose i want to create 3*3 ndarray using randint but i want float data\n",
    "arr=np.random.randint(20,31,size=(2,4),dtype=float) # it is unsopported so we can convert this int based array to float based array\n",
    "arr\n"
   ]
  },
  {
   "cell_type": "code",
   "execution_count": 153,
   "id": "6a09cfb7",
   "metadata": {},
   "outputs": [
    {
     "data": {
      "text/plain": [
       "array([[29., 24., 26., 27.],\n",
       "       [30., 29., 29., 25.]])"
      ]
     },
     "execution_count": 153,
     "metadata": {},
     "output_type": "execute_result"
    }
   ],
   "source": [
    "# by using astype we can do it in float\n",
    "# so write like this\n",
    "farr=arr.astype(float)\n",
    "farr"
   ]
  },
  {
   "cell_type": "code",
   "execution_count": 154,
   "id": "e7eebe8a",
   "metadata": {},
   "outputs": [
    {
     "data": {
      "text/plain": [
       "array([[29.+0.j, 24.+0.j, 26.+0.j, 27.+0.j],\n",
       "       [30.+0.j, 29.+0.j, 29.+0.j, 25.+0.j]])"
      ]
     },
     "execution_count": 154,
     "metadata": {},
     "output_type": "execute_result"
    }
   ],
   "source": [
    "# convert array to complex\n",
    "# so write like this\n",
    "farr=arr.astype(complex)\n",
    "farr"
   ]
  },
  {
   "cell_type": "code",
   "execution_count": 155,
   "id": "231d64e5",
   "metadata": {},
   "outputs": [
    {
     "data": {
      "text/plain": [
       "array([[ True,  True,  True,  True],\n",
       "       [ True,  True,  True,  True]])"
      ]
     },
     "execution_count": 155,
     "metadata": {},
     "output_type": "execute_result"
    }
   ],
   "source": [
    "# convert array to bool\n",
    "# so write like this\n",
    "farr=arr.astype(bool)\n",
    "farr"
   ]
  }
 ],
 "metadata": {
  "kernelspec": {
   "display_name": "Python 3 (ipykernel)",
   "language": "python",
   "name": "python3"
  },
  "language_info": {
   "codemirror_mode": {
    "name": "ipython",
    "version": 3
   },
   "file_extension": ".py",
   "mimetype": "text/x-python",
   "name": "python",
   "nbconvert_exporter": "python",
   "pygments_lexer": "ipython3",
   "version": "3.9.12"
  }
 },
 "nbformat": 4,
 "nbformat_minor": 5
}
