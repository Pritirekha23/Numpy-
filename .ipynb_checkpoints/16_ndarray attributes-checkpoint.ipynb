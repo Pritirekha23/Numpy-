{
 "cells": [
  {
   "cell_type": "markdown",
   "id": "b12e9fb6",
   "metadata": {},
   "source": [
    "### ndarray attributes"
   ]
  },
  {
   "cell_type": "code",
   "execution_count": 5,
   "id": "f796114e",
   "metadata": {},
   "outputs": [],
   "source": [
    "import numpy as np"
   ]
  },
  {
   "cell_type": "code",
   "execution_count": null,
   "id": "af2ef1cc",
   "metadata": {},
   "outputs": [],
   "source": [
    "# ndim\n",
    "#shape\n",
    "#size\n",
    "#itemsize\n",
    "#dtype"
   ]
  },
  {
   "cell_type": "markdown",
   "id": "d8b1a209",
   "metadata": {},
   "source": [
    "### (1) ndim"
   ]
  },
  {
   "cell_type": "code",
   "execution_count": 4,
   "id": "e4526ca4",
   "metadata": {},
   "outputs": [
    {
     "name": "stdout",
     "output_type": "stream",
     "text": [
      "[0 1 2 3 4 5 6 7 8 9]\n",
      "1\n"
     ]
    }
   ],
   "source": [
    "# ndim= dimension of the array\n",
    "arr=np.arange(10)\n",
    "print(arr)\n",
    "print(arr.ndim)"
   ]
  },
  {
   "cell_type": "code",
   "execution_count": 9,
   "id": "53e1a39b",
   "metadata": {},
   "outputs": [
    {
     "name": "stdout",
     "output_type": "stream",
     "text": [
      "[[ 0  1  2  3]\n",
      " [ 4  5  6  7]\n",
      " [ 8  9 10 11]\n",
      " [12 13 14 15]\n",
      " [16 17 18 19]]\n",
      "2\n"
     ]
    }
   ],
   "source": [
    "arr=np.arange(20).reshape(5,4)\n",
    "print(arr)\n",
    "print(arr.ndim)"
   ]
  },
  {
   "cell_type": "code",
   "execution_count": 10,
   "id": "94acbdda",
   "metadata": {},
   "outputs": [
    {
     "name": "stdout",
     "output_type": "stream",
     "text": [
      "[[[ 0  1  2]\n",
      "  [ 3  4  5]\n",
      "  [ 6  7  8]]\n",
      "\n",
      " [[ 9 10 11]\n",
      "  [12 13 14]\n",
      "  [15 16 17]]\n",
      "\n",
      " [[18 19 20]\n",
      "  [21 22 23]\n",
      "  [24 25 26]]]\n",
      "3\n"
     ]
    }
   ],
   "source": [
    "arr=np.arange(27).reshape(3,3,3)\n",
    "print(arr)\n",
    "print(arr.ndim)"
   ]
  },
  {
   "cell_type": "markdown",
   "id": "fb3fffb8",
   "metadata": {},
   "source": [
    "### (2) shape"
   ]
  },
  {
   "cell_type": "code",
   "execution_count": 14,
   "id": "0c5d6250",
   "metadata": {},
   "outputs": [
    {
     "name": "stdout",
     "output_type": "stream",
     "text": [
      "[ 0  1  2  3  4  5  6  7  8  9 10 11 12 13 14 15 16 17 18 19]\n",
      "(20,)\n"
     ]
    }
   ],
   "source": [
    "arr1=np.arange(20)\n",
    "print(arr1)\n",
    "print(arr1.shape)\n",
    "# It will give the output in the form of tuple."
   ]
  },
  {
   "cell_type": "code",
   "execution_count": null,
   "id": "725f2351",
   "metadata": {},
   "outputs": [],
   "source": []
  },
  {
   "cell_type": "code",
   "execution_count": null,
   "id": "559b4595",
   "metadata": {},
   "outputs": [],
   "source": []
  },
  {
   "cell_type": "code",
   "execution_count": null,
   "id": "1b57375a",
   "metadata": {},
   "outputs": [],
   "source": []
  },
  {
   "cell_type": "code",
   "execution_count": null,
   "id": "78573e86",
   "metadata": {},
   "outputs": [],
   "source": []
  },
  {
   "cell_type": "code",
   "execution_count": null,
   "id": "944c66fd",
   "metadata": {},
   "outputs": [],
   "source": []
  },
  {
   "cell_type": "code",
   "execution_count": null,
   "id": "1333ea13",
   "metadata": {},
   "outputs": [],
   "source": []
  },
  {
   "cell_type": "code",
   "execution_count": null,
   "id": "6bf5caaf",
   "metadata": {},
   "outputs": [],
   "source": []
  }
 ],
 "metadata": {
  "kernelspec": {
   "display_name": "Python 3 (ipykernel)",
   "language": "python",
   "name": "python3"
  },
  "language_info": {
   "codemirror_mode": {
    "name": "ipython",
    "version": 3
   },
   "file_extension": ".py",
   "mimetype": "text/x-python",
   "name": "python",
   "nbconvert_exporter": "python",
   "pygments_lexer": "ipython3",
   "version": "3.9.12"
  }
 },
 "nbformat": 4,
 "nbformat_minor": 5
}
