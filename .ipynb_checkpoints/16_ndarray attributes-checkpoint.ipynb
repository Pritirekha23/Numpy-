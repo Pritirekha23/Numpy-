{
 "cells": [
  {
   "cell_type": "markdown",
   "id": "b12e9fb6",
   "metadata": {},
   "source": [
    "### ndarray attributes"
   ]
  },
  {
   "cell_type": "code",
   "execution_count": 5,
   "id": "f796114e",
   "metadata": {},
   "outputs": [],
   "source": [
    "import numpy as np"
   ]
  },
  {
   "cell_type": "code",
   "execution_count": null,
   "id": "af2ef1cc",
   "metadata": {},
   "outputs": [],
   "source": [
    "# ndim\n",
    "#shape\n",
    "#size\n",
    "#itemsize\n",
    "#dtype"
   ]
  },
  {
   "cell_type": "markdown",
   "id": "d8b1a209",
   "metadata": {},
   "source": [
    "### (1) ndim"
   ]
  },
  {
   "cell_type": "code",
   "execution_count": 4,
   "id": "e4526ca4",
   "metadata": {},
   "outputs": [
    {
     "name": "stdout",
     "output_type": "stream",
     "text": [
      "[0 1 2 3 4 5 6 7 8 9]\n",
      "1\n"
     ]
    }
   ],
   "source": [
    "# ndim= dimension of the array\n",
    "arr=np.arange(10)\n",
    "print(arr)\n",
    "print(arr.ndim)"
   ]
  },
  {
   "cell_type": "code",
   "execution_count": 9,
   "id": "53e1a39b",
   "metadata": {},
   "outputs": [
    {
     "name": "stdout",
     "output_type": "stream",
     "text": [
      "[[ 0  1  2  3]\n",
      " [ 4  5  6  7]\n",
      " [ 8  9 10 11]\n",
      " [12 13 14 15]\n",
      " [16 17 18 19]]\n",
      "2\n"
     ]
    }
   ],
   "source": [
    "arr=np.arange(20).reshape(5,4)\n",
    "print(arr)\n",
    "print(arr.ndim)"
   ]
  },
  {
   "cell_type": "code",
   "execution_count": 10,
   "id": "94acbdda",
   "metadata": {},
   "outputs": [
    {
     "name": "stdout",
     "output_type": "stream",
     "text": [
      "[[[ 0  1  2]\n",
      "  [ 3  4  5]\n",
      "  [ 6  7  8]]\n",
      "\n",
      " [[ 9 10 11]\n",
      "  [12 13 14]\n",
      "  [15 16 17]]\n",
      "\n",
      " [[18 19 20]\n",
      "  [21 22 23]\n",
      "  [24 25 26]]]\n",
      "3\n"
     ]
    }
   ],
   "source": [
    "arr=np.arange(27).reshape(3,3,3)\n",
    "print(arr)\n",
    "print(arr.ndim)"
   ]
  },
  {
   "cell_type": "markdown",
   "id": "bf92dbfe",
   "metadata": {},
   "source": [
    "### (2) shape"
   ]
  },
  {
   "cell_type": "code",
   "execution_count": 15,
   "id": "4898b401",
   "metadata": {},
   "outputs": [
    {
     "name": "stdout",
     "output_type": "stream",
     "text": [
      "[ 0  1  2  3  4  5  6  7  8  9 10 11 12 13 14 15 16 17 18 19]\n",
      "(20,)\n",
      "<class 'tuple'>\n"
     ]
    }
   ],
   "source": [
    "arr1=np.arange(20)\n",
    "print(arr1)\n",
    "print(arr1.shape)\n",
    "# It will give the output in the form of tuple.\n",
    "print(type(arr1.shape))"
   ]
  },
  {
   "cell_type": "code",
   "execution_count": 17,
   "id": "e95cef80",
   "metadata": {},
   "outputs": [
    {
     "name": "stdout",
     "output_type": "stream",
     "text": [
      "[[[ 0  1  2]\n",
      "  [ 3  4  5]\n",
      "  [ 6  7  8]]\n",
      "\n",
      " [[ 9 10 11]\n",
      "  [12 13 14]\n",
      "  [15 16 17]]\n",
      "\n",
      " [[18 19 20]\n",
      "  [21 22 23]\n",
      "  [24 25 26]]]\n",
      "(3, 3, 3)\n",
      "<class 'tuple'>\n"
     ]
    }
   ],
   "source": [
    "arr2=np.arange(27).reshape(3,3,3)\n",
    "print(arr2)\n",
    "print(arr2.shape)\n",
    "print(type(arr2.shape))"
   ]
  },
  {
   "cell_type": "markdown",
   "id": "622a45dd",
   "metadata": {},
   "source": [
    "### (3)size"
   ]
  },
  {
   "cell_type": "code",
   "execution_count": 18,
   "id": "3ad4ca6a",
   "metadata": {},
   "outputs": [
    {
     "name": "stdout",
     "output_type": "stream",
     "text": [
      "[0 1 2 3 4 5 6 7 8 9]\n",
      "10\n"
     ]
    }
   ],
   "source": [
    "arr4=np.arange(10)\n",
    "print(arr4)\n",
    "print(arr4.size)"
   ]
  },
  {
   "cell_type": "code",
   "execution_count": 21,
   "id": "78573e86",
   "metadata": {},
   "outputs": [
    {
     "name": "stdout",
     "output_type": "stream",
     "text": [
      "[[[ 0  1  2]\n",
      "  [ 3  4  5]\n",
      "  [ 6  7  8]]\n",
      "\n",
      " [[ 9 10 11]\n",
      "  [12 13 14]\n",
      "  [15 16 17]]\n",
      "\n",
      " [[18 19 20]\n",
      "  [21 22 23]\n",
      "  [24 25 26]]]\n",
      "27\n"
     ]
    }
   ],
   "source": [
    "arr2=np.arange(27).reshape(3,3,3)\n",
    "print(arr2)\n",
    "print(arr2.size)"
   ]
  },
  {
   "cell_type": "markdown",
   "id": "a0880a28",
   "metadata": {},
   "source": [
    "### (4)itemsize & dtype "
   ]
  },
  {
   "cell_type": "code",
   "execution_count": 27,
   "id": "1333ea13",
   "metadata": {},
   "outputs": [
    {
     "name": "stdout",
     "output_type": "stream",
     "text": [
      "[0 1 2 3 4]\n",
      "4\n",
      "int32\n"
     ]
    }
   ],
   "source": [
    "\n",
    "# individual element is called item\n",
    "# individual element taking how many bytes i.e itemsize\n",
    "arr5=np.arange(5)\n",
    "print(arr5)\n",
    "print(arr5.itemsize)\n",
    "print(arr5.dtype)"
   ]
  },
  {
   "cell_type": "code",
   "execution_count": 28,
   "id": "c2b08809",
   "metadata": {},
   "outputs": [
    {
     "name": "stdout",
     "output_type": "stream",
     "text": [
      "[0 1 2 3 4]\n",
      "20\n"
     ]
    }
   ],
   "source": [
    "arr5=np.arange(5)\n",
    "print(arr5)\n",
    "print((arr5.itemsize)*len(arr5))"
   ]
  },
  {
   "cell_type": "markdown",
   "id": "9a0f4fea",
   "metadata": {},
   "source": [
    "### changing dtype"
   ]
  },
  {
   "cell_type": "code",
   "execution_count": 30,
   "id": "0ce837e0",
   "metadata": {},
   "outputs": [
    {
     "name": "stdout",
     "output_type": "stream",
     "text": [
      "[0 1 2 3 4]\n",
      "1\n",
      "int8\n",
      "5\n"
     ]
    }
   ],
   "source": [
    "# changing dtype\n",
    "arr5=np.arange(5,dtype='int8')\n",
    "print(arr5)\n",
    "print(arr5.itemsize)\n",
    "print(arr5.dtype)\n",
    "print((arr5.itemsize)*len(arr5))"
   ]
  },
  {
   "cell_type": "code",
   "execution_count": null,
   "id": "5cb043a8",
   "metadata": {},
   "outputs": [],
   "source": []
  },
  {
   "cell_type": "code",
   "execution_count": null,
   "id": "07c02f57",
   "metadata": {},
   "outputs": [],
   "source": []
  },
  {
   "cell_type": "code",
   "execution_count": null,
   "id": "8436412d",
   "metadata": {},
   "outputs": [],
   "source": []
  },
  {
   "cell_type": "code",
   "execution_count": null,
   "id": "6bf5caaf",
   "metadata": {},
   "outputs": [],
   "source": []
  }
 ],
 "metadata": {
  "kernelspec": {
   "display_name": "Python 3 (ipykernel)",
   "language": "python",
   "name": "python3"
  },
  "language_info": {
   "codemirror_mode": {
    "name": "ipython",
    "version": 3
   },
   "file_extension": ".py",
   "mimetype": "text/x-python",
   "name": "python",
   "nbconvert_exporter": "python",
   "pygments_lexer": "ipython3",
   "version": "3.9.12"
  }
 },
 "nbformat": 4,
 "nbformat_minor": 5
}
