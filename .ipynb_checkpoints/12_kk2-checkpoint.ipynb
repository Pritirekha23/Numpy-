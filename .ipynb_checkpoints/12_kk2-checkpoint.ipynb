{
 "cells": [
  {
   "cell_type": "markdown",
   "id": "8b48162f",
   "metadata": {},
   "source": [
    "#Creation of ndarray using rand(),unifrom()"
   ]
  },
  {
   "cell_type": "raw",
   "id": "9f375985",
   "metadata": {},
   "source": [
    "#rand()\n",
    "# rand function is used to generate random float values in the range of 0 to 1 from uniform distribution samples.\n",
    "# Here 0 is included and 1 is not included.\n",
    "# If we pasws shape,it will give random values in the given shape.\n",
    "# if u r not passing any shape then it will give 1 value."
   ]
  },
  {
   "cell_type": "raw",
   "id": "4753f90c",
   "metadata": {},
   "source": [
    "# Uniform Distribution\n",
    "# In Uniform Distribution the probability of x is constamt."
   ]
  },
  {
   "cell_type": "raw",
   "id": "ab97ee9e",
   "metadata": {},
   "source": [
    "#Normal Distribution\n",
    "# The probability of x is high at center and low at the start and end."
   ]
  },
  {
   "cell_type": "code",
   "execution_count": null,
   "id": "a52321ad",
   "metadata": {},
   "outputs": [],
   "source": [
    "import numpy as np"
   ]
  },
  {
   "cell_type": "code",
   "execution_count": null,
   "id": "8b3baa89",
   "metadata": {},
   "outputs": [],
   "source": [
    "arr=np.random.rand()\n",
    "print(arr)"
   ]
  },
  {
   "cell_type": "code",
   "execution_count": null,
   "id": "67284dca",
   "metadata": {},
   "outputs": [],
   "source": []
  },
  {
   "cell_type": "code",
   "execution_count": null,
   "id": "8c249c04",
   "metadata": {},
   "outputs": [],
   "source": []
  },
  {
   "cell_type": "code",
   "execution_count": null,
   "id": "0155c13f",
   "metadata": {},
   "outputs": [],
   "source": []
  },
  {
   "cell_type": "code",
   "execution_count": null,
   "id": "c542bf79",
   "metadata": {},
   "outputs": [],
   "source": []
  },
  {
   "cell_type": "code",
   "execution_count": null,
   "id": "43f037d4",
   "metadata": {},
   "outputs": [],
   "source": []
  },
  {
   "cell_type": "code",
   "execution_count": null,
   "id": "297641cf",
   "metadata": {},
   "outputs": [],
   "source": []
  }
 ],
 "metadata": {
  "kernelspec": {
   "display_name": "Python 3 (ipykernel)",
   "language": "python",
   "name": "python3"
  },
  "language_info": {
   "codemirror_mode": {
    "name": "ipython",
    "version": 3
   },
   "file_extension": ".py",
   "mimetype": "text/x-python",
   "name": "python",
   "nbconvert_exporter": "python",
   "pygments_lexer": "ipython3",
   "version": "3.9.12"
  }
 },
 "nbformat": 4,
 "nbformat_minor": 5
}
