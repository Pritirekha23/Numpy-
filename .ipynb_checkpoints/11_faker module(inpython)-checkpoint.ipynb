{
 "cells": [
  {
   "cell_type": "markdown",
   "id": "2b4b8351",
   "metadata": {},
   "source": [
    "# faker module"
   ]
  },
  {
   "cell_type": "code",
   "execution_count": null,
   "id": "13d7146e",
   "metadata": {},
   "outputs": [],
   "source": [
    "!pip install Faker"
   ]
  },
  {
   "cell_type": "code",
   "execution_count": null,
   "id": "3ae39224",
   "metadata": {},
   "outputs": [],
   "source": [
    "from faker import Faker\n",
    "# object creation\n",
    "fk=faker\n",
    "print(fk.)"
   ]
  },
  {
   "cell_type": "code",
   "execution_count": null,
   "id": "7b120356",
   "metadata": {},
   "outputs": [],
   "source": []
  }
 ],
 "metadata": {
  "kernelspec": {
   "display_name": "Python 3 (ipykernel)",
   "language": "python",
   "name": "python3"
  },
  "language_info": {
   "codemirror_mode": {
    "name": "ipython",
    "version": 3
   },
   "file_extension": ".py",
   "mimetype": "text/x-python",
   "name": "python",
   "nbconvert_exporter": "python",
   "pygments_lexer": "ipython3",
   "version": "3.9.12"
  }
 },
 "nbformat": 4,
 "nbformat_minor": 5
}
