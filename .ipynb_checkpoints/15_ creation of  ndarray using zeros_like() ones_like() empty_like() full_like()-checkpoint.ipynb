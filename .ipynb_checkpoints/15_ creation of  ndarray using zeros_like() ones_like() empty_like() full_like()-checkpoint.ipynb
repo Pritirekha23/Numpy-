{
 "cells": [
  {
   "cell_type": "markdown",
   "id": "db45395b",
   "metadata": {},
   "source": [
    "# creation of  ndarray using zeros_like() ones_like() empty_like() full_like()"
   ]
  },
  {
   "cell_type": "code",
   "execution_count": 10,
   "id": "3279d6e5",
   "metadata": {},
   "outputs": [],
   "source": [
    "import numpy as np"
   ]
  },
  {
   "cell_type": "markdown",
   "id": "266b65c2",
   "metadata": {},
   "source": [
    "### (1) zeros_like()\n"
   ]
  },
  {
   "cell_type": "code",
   "execution_count": 11,
   "id": "4ad6f096",
   "metadata": {},
   "outputs": [
    {
     "name": "stdout",
     "output_type": "stream",
     "text": [
      "[[0. 0.]\n",
      " [0. 0.]]\n"
     ]
    }
   ],
   "source": [
    "# zeros\n",
    "arr=np.zeros((2,2,))\n",
    "print(arr)"
   ]
  },
  {
   "cell_type": "code",
   "execution_count": 12,
   "id": "119f1e66",
   "metadata": {},
   "outputs": [
    {
     "name": "stdout",
     "output_type": "stream",
     "text": [
      "[[0 0]\n",
      " [0 0]]\n"
     ]
    }
   ],
   "source": [
    "\n",
    "arr=np.zeros((2,2,),dtype=int)\n",
    "print(arr)"
   ]
  },
  {
   "cell_type": "code",
   "execution_count": 32,
   "id": "b620a2d1",
   "metadata": {},
   "outputs": [
    {
     "name": "stdout",
     "output_type": "stream",
     "text": [
      "[0 1 2 3 4 5 6 7 8 9]\n"
     ]
    }
   ],
   "source": [
    "# normal array\n",
    "a=np.arange(10)\n",
    "print(a)"
   ]
  },
  {
   "cell_type": "code",
   "execution_count": 34,
   "id": "25df4477",
   "metadata": {},
   "outputs": [
    {
     "name": "stdout",
     "output_type": "stream",
     "text": [
      "[0 0 0 0 0 0 0 0 0 0]\n"
     ]
    }
   ],
   "source": [
    "# zeros_like()\n",
    "  # here we are giving the array a\n",
    "arr=np.zeros_like(a)\n",
    "print(arr)"
   ]
  },
  {
   "cell_type": "code",
   "execution_count": null,
   "id": "c8b2b972",
   "metadata": {},
   "outputs": [],
   "source": []
  },
  {
   "cell_type": "markdown",
   "id": "aed96253",
   "metadata": {},
   "source": [
    "### (2) ones_like()"
   ]
  },
  {
   "cell_type": "code",
   "execution_count": 14,
   "id": "f3c44d47",
   "metadata": {},
   "outputs": [
    {
     "name": "stdout",
     "output_type": "stream",
     "text": [
      "[[1. 1.]\n",
      " [1. 1.]]\n"
     ]
    }
   ],
   "source": [
    "\n",
    "arr=np.ones((2,2,))\n",
    "print(arr)"
   ]
  },
  {
   "cell_type": "code",
   "execution_count": 15,
   "id": "efc16dd7",
   "metadata": {},
   "outputs": [
    {
     "name": "stdout",
     "output_type": "stream",
     "text": [
      "[[1 1]\n",
      " [1 1]]\n"
     ]
    }
   ],
   "source": [
    "\n",
    "arr=np.ones((2,2,),dtype=int)\n",
    "print(arr)"
   ]
  },
  {
   "cell_type": "code",
   "execution_count": 35,
   "id": "15d62e62",
   "metadata": {},
   "outputs": [
    {
     "name": "stdout",
     "output_type": "stream",
     "text": [
      "[1 1 1 1 1 1 1 1 1 1]\n"
     ]
    }
   ],
   "source": [
    "# ones_like()\n",
    "  # here we are giving the array a\n",
    "arr=np.ones_like(a)\n",
    "print(arr)"
   ]
  },
  {
   "cell_type": "markdown",
   "id": "4206f5c5",
   "metadata": {},
   "source": [
    "### (3) empty_like()"
   ]
  },
  {
   "cell_type": "code",
   "execution_count": 53,
   "id": "892de7e2",
   "metadata": {},
   "outputs": [
    {
     "name": "stdout",
     "output_type": "stream",
     "text": [
      "[[666 666]\n",
      " [666 666]]\n"
     ]
    }
   ],
   "source": [
    "# empty will give random value(default value / garbage value)\n",
    "arr=np.empty((2,2),dtype=int)\n",
    "print(arr)"
   ]
  },
  {
   "cell_type": "code",
   "execution_count": 108,
   "id": "b0fa895b",
   "metadata": {},
   "outputs": [
    {
     "name": "stdout",
     "output_type": "stream",
     "text": [
      "[2107204848        576  118808656      32764          1          0\n",
      "         -1         -1 1293942784 1701540705]\n"
     ]
    }
   ],
   "source": [
    "# empty_like()\n",
    "prr=np.empty_like((a))\n",
    "print(prr)"
   ]
  },
  {
   "cell_type": "markdown",
   "id": "c8ec4d48",
   "metadata": {},
   "source": [
    "### (4)full_like()"
   ]
  },
  {
   "cell_type": "code",
   "execution_count": 83,
   "id": "acb81aaf",
   "metadata": {},
   "outputs": [
    {
     "name": "stdout",
     "output_type": "stream",
     "text": [
      "[[666 666]\n",
      " [666 666]]\n"
     ]
    }
   ],
   "source": [
    "#full \n",
    "arr=np.full((2,2),666)\n",
    "print(arr)"
   ]
  },
  {
   "cell_type": "code",
   "execution_count": 82,
   "id": "0fcfe821",
   "metadata": {},
   "outputs": [
    {
     "name": "stdout",
     "output_type": "stream",
     "text": [
      "[322 322 322 322 322 322 322 322 322 322]\n"
     ]
    }
   ],
   "source": [
    "#full_like \n",
    "arr=np.full_like((a),322)\n",
    "print(arr)"
   ]
  },
  {
   "cell_type": "code",
   "execution_count": 85,
   "id": "b9930c8e",
   "metadata": {},
   "outputs": [
    {
     "name": "stdout",
     "output_type": "stream",
     "text": [
      "[[0 1 2]\n",
      " [3 4 5]\n",
      " [6 7 8]]\n"
     ]
    }
   ],
   "source": [
    "# Create a 3*3 array\n",
    "x=np.arange(9).reshape(3,3)\n",
    "print(x)"
   ]
  },
  {
   "cell_type": "code",
   "execution_count": 86,
   "id": "ae33c029",
   "metadata": {},
   "outputs": [
    {
     "name": "stdout",
     "output_type": "stream",
     "text": [
      "[[0 0 0]\n",
      " [0 0 0]\n",
      " [0 0 0]]\n"
     ]
    }
   ],
   "source": [
    "arr=np.zeros_like(x)\n",
    "print(arr)"
   ]
  },
  {
   "cell_type": "code",
   "execution_count": 87,
   "id": "e70c6261",
   "metadata": {},
   "outputs": [
    {
     "name": "stdout",
     "output_type": "stream",
     "text": [
      "[[1 1 1]\n",
      " [1 1 1]\n",
      " [1 1 1]]\n"
     ]
    }
   ],
   "source": [
    "arr=np.ones_like(x)\n",
    "print(arr)"
   ]
  },
  {
   "cell_type": "code",
   "execution_count": 120,
   "id": "1b89cb0c",
   "metadata": {},
   "outputs": [
    {
     "name": "stdout",
     "output_type": "stream",
     "text": [
      "[[2107204848        576 2135495488]\n",
      " [       576 2135495360        576]\n",
      " [2114200880        576          0]]\n"
     ]
    }
   ],
   "source": [
    "arrr=np.empty_like(x)\n",
    "print(arrr)"
   ]
  },
  {
   "cell_type": "code",
   "execution_count": 99,
   "id": "cc3f6b63",
   "metadata": {},
   "outputs": [
    {
     "name": "stdout",
     "output_type": "stream",
     "text": [
      "[[10 10 10]\n",
      " [10 10 10]\n",
      " [10 10 10]]\n"
     ]
    }
   ],
   "source": [
    "arr=np.full_like(x,10)\n",
    "print(arr)"
   ]
  },
  {
   "cell_type": "code",
   "execution_count": null,
   "id": "62b26d71",
   "metadata": {},
   "outputs": [],
   "source": []
  }
 ],
 "metadata": {
  "kernelspec": {
   "display_name": "Python 3 (ipykernel)",
   "language": "python",
   "name": "python3"
  },
  "language_info": {
   "codemirror_mode": {
    "name": "ipython",
    "version": 3
   },
   "file_extension": ".py",
   "mimetype": "text/x-python",
   "name": "python",
   "nbconvert_exporter": "python",
   "pygments_lexer": "ipython3",
   "version": "3.9.12"
  }
 },
 "nbformat": 4,
 "nbformat_minor": 5
}
