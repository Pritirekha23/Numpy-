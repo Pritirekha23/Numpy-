{
 "cells": [
  {
   "cell_type": "markdown",
   "id": "3a120082",
   "metadata": {},
   "source": [
    "# Creation of ndarray by using specific datatypes"
   ]
  },
  {
   "cell_type": "code",
   "execution_count": 5,
   "id": "62bb5a04",
   "metadata": {},
   "outputs": [],
   "source": [
    "import numpy as ny"
   ]
  },
  {
   "cell_type": "markdown",
   "id": "952ff952",
   "metadata": {},
   "source": [
    "### 01- Creation of ndarray using int,float,bool,complex,str datatype\n"
   ]
  },
  {
   "cell_type": "markdown",
   "id": "25e4febd",
   "metadata": {},
   "source": [
    "#01- Creation of ndarray using int,float,bool,complex,str datatype\n",
    "#02- Creation of ndarray using object type"
   ]
  },
  {
   "cell_type": "code",
   "execution_count": 14,
   "id": "0ce9e9f0",
   "metadata": {},
   "outputs": [
    {
     "name": "stdout",
     "output_type": "stream",
     "text": [
      "[2 3 4 5 8 9]\n",
      "dimension is 1\n",
      "shape is:: (6,)\n",
      "size is:: 6\n",
      "data type is:: int64\n"
     ]
    }
   ],
   "source": [
    "#01- Creation of ndarray using int type\n",
    "l=[2,3,4,5,8.8,9.7]\n",
    "nrr=ny.array(l,dtype='int64')\n",
    "print(nrr)\n",
    "\n",
    "# properties\n",
    "print('dimension is',nrr.ndim)\n",
    "print('shape is::',nrr.shape)\n",
    "print('size is::',nrr.size)\n",
    "print('data type is::',nrr.dtype)"
   ]
  },
  {
   "cell_type": "code",
   "execution_count": 12,
   "id": "0aedf898",
   "metadata": {},
   "outputs": [
    {
     "name": "stdout",
     "output_type": "stream",
     "text": [
      "[12 34  5  7  4]\n",
      "dimension is 1\n",
      "shape is:: (5,)\n",
      "size is:: 5\n",
      "data type is:: int32\n"
     ]
    },
    {
     "name": "stderr",
     "output_type": "stream",
     "text": [
      "C:\\Users\\ASUS\\AppData\\Local\\Temp\\ipykernel_12880\\411624664.py:2: DeprecationWarning: `np.int` is a deprecated alias for the builtin `int`. To silence this warning, use `int` by itself. Doing this will not modify any behavior and is safe. When replacing `np.int`, you may wish to use e.g. `np.int64` or `np.int32` to specify the precision. If you wish to review your current use, check the release note link for additional information.\n",
      "Deprecated in NumPy 1.20; for more details and guidance: https://numpy.org/devdocs/release/1.20.0-notes.html#deprecations\n",
      "  nrr=ny.array([12,34,5.6,7.4,4.33],dtype=ny.int)\n"
     ]
    }
   ],
   "source": [
    "# another way\n",
    "nrr=ny.array([12,34,5.6,7.4,4.33],dtype=ny.int)\n",
    "print(nrr)\n",
    "\n",
    "\n",
    "# properties\n",
    "print('dimension is',nrr.ndim)\n",
    "print('shape is::',nrr.shape)\n",
    "print('size is::',nrr.size)\n",
    "print('data type is::',nrr.dtype)"
   ]
  },
  {
   "cell_type": "code",
   "execution_count": 17,
   "id": "40e4faad",
   "metadata": {},
   "outputs": [
    {
     "name": "stdout",
     "output_type": "stream",
     "text": [
      "[5.44  7.44  2.    5.    9.006]\n",
      "dimension is 1\n",
      "shape is:: (5,)\n",
      "size is:: 5\n",
      "data type is:: float32\n"
     ]
    }
   ],
   "source": [
    "#02- Creation of ndarray using float type\n",
    "l1=[5.44,7.44,2,5,9.006]\n",
    "nrr=ny.array(l1,dtype=\"float32\")\n",
    "print(nrr)\n",
    "\n",
    "# properties\n",
    "print('dimension is',nrr.ndim)\n",
    "print('shape is::',nrr.shape)\n",
    "print('size is::',nrr.size)\n",
    "print('data type is::',nrr.dtype)"
   ]
  },
  {
   "cell_type": "code",
   "execution_count": 18,
   "id": "7e0b6c06",
   "metadata": {},
   "outputs": [
    {
     "name": "stdout",
     "output_type": "stream",
     "text": [
      "[ True  True  True  True False False  True]\n",
      "dimension is 1\n",
      "shape is:: (7,)\n",
      "size is:: 7\n",
      "data type is:: bool\n"
     ]
    }
   ],
   "source": [
    "#02- Creation of ndarray using bool type\n",
    "l2=[5.44,6,7.6,True,False,0,1]\n",
    "nrr=ny.array(l2,dtype=\"bool\")\n",
    "print(nrr)\n",
    "\n",
    "# non-zero value means true \n",
    "# properties\n",
    "print('dimension is',nrr.ndim)\n",
    "print('shape is::',nrr.shape)\n",
    "print('size is::',nrr.size)\n",
    "print('data type is::',nrr.dtype)"
   ]
  }
 ],
 "metadata": {
  "kernelspec": {
   "display_name": "Python 3 (ipykernel)",
   "language": "python",
   "name": "python3"
  },
  "language_info": {
   "codemirror_mode": {
    "name": "ipython",
    "version": 3
   },
   "file_extension": ".py",
   "mimetype": "text/x-python",
   "name": "python",
   "nbconvert_exporter": "python",
   "pygments_lexer": "ipython3",
   "version": "3.9.12"
  }
 },
 "nbformat": 4,
 "nbformat_minor": 5
}
