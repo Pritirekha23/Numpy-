{
 "cells": [
  {
   "cell_type": "markdown",
   "id": "3f493ca8",
   "metadata": {},
   "source": [
    "# Creation of ndarray using array()"
   ]
  },
  {
   "cell_type": "markdown",
   "id": "80da4c95",
   "metadata": {},
   "source": [
    "creation of 1D array using aarray() from list or tuple"
   ]
  },
  {
   "cell_type": "code",
   "execution_count": 1,
   "id": "74eaf5a6",
   "metadata": {},
   "outputs": [
    {
     "name": "stdout",
     "output_type": "stream",
     "text": [
      "[23, 43, 53, 63, 73]\n",
      "<class 'type'>\n"
     ]
    }
   ],
   "source": [
    "l=[23,43,53,63,73]\n",
    "print(l)\n",
    "print(type(l))"
   ]
  }
 ],
 "metadata": {
  "kernelspec": {
   "display_name": "Python 3 (ipykernel)",
   "language": "python",
   "name": "python3"
  },
  "language_info": {
   "codemirror_mode": {
    "name": "ipython",
    "version": 3
   },
   "file_extension": ".py",
   "mimetype": "text/x-python",
   "name": "python",
   "nbconvert_exporter": "python",
   "pygments_lexer": "ipython3",
   "version": "3.9.12"
  }
 },
 "nbformat": 4,
 "nbformat_minor": 5
}
