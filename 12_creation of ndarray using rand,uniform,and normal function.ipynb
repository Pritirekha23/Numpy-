{
 "cells": [
  {
   "cell_type": "markdown",
   "id": "10d4446c",
   "metadata": {},
   "source": [
    "#Creation of ndarray using rand(),unifrom()"
   ]
  },
  {
   "cell_type": "raw",
   "id": "6ea6ec8e",
   "metadata": {},
   "source": [
    "#rand()\n",
    "# rand function is used to generate random float values in the range of 0 to 1 from uniform distribution samples.\n",
    "# Here 0 is included and 1 is not included.\n",
    "# If we passes shape,it will give random values in the given shape.\n",
    "# if u r not passing any shape then it will give 1 value."
   ]
  },
  {
   "cell_type": "raw",
   "id": "43ae6f60",
   "metadata": {},
   "source": [
    "# Uniform Distribution\n",
    "# In Uniform Distribution the probability of x is constant."
   ]
  },
  {
   "cell_type": "raw",
   "id": "ff22b124",
   "metadata": {},
   "source": [
    "#Normal Distribution\n",
    "# The probability of x is high at center and low at the start and end."
   ]
  },
  {
   "cell_type": "code",
   "execution_count": null,
   "id": "be823586",
   "metadata": {},
   "outputs": [],
   "source": [
    "import numpy as np\n",
    "\n"
   ]
  },
  {
   "cell_type": "code",
   "execution_count": 37,
   "id": "16016515",
   "metadata": {},
   "outputs": [
    {
     "name": "stdout",
     "output_type": "stream",
     "text": [
      "0.7617609146010658\n"
     ]
    }
   ],
   "source": [
    "arr=np.random.rand()\n",
    "print(arr)"
   ]
  },
  {
   "cell_type": "code",
   "execution_count": 38,
   "id": "4fdb9f0d",
   "metadata": {},
   "outputs": [
    {
     "name": "stdout",
     "output_type": "stream",
     "text": [
      "Help on built-in function rand:\n",
      "\n",
      "rand(...) method of numpy.random.mtrand.RandomState instance\n",
      "    rand(d0, d1, ..., dn)\n",
      "    \n",
      "    Random values in a given shape.\n",
      "    \n",
      "    .. note::\n",
      "        This is a convenience function for users porting code from Matlab,\n",
      "        and wraps `random_sample`. That function takes a\n",
      "        tuple to specify the size of the output, which is consistent with\n",
      "        other NumPy functions like `numpy.zeros` and `numpy.ones`.\n",
      "    \n",
      "    Create an array of the given shape and populate it with\n",
      "    random samples from a uniform distribution\n",
      "    over ``[0, 1)``.\n",
      "    \n",
      "    Parameters\n",
      "    ----------\n",
      "    d0, d1, ..., dn : int, optional\n",
      "        The dimensions of the returned array, must be non-negative.\n",
      "        If no argument is given a single Python float is returned.\n",
      "    \n",
      "    Returns\n",
      "    -------\n",
      "    out : ndarray, shape ``(d0, d1, ..., dn)``\n",
      "        Random values.\n",
      "    \n",
      "    See Also\n",
      "    --------\n",
      "    random\n",
      "    \n",
      "    Examples\n",
      "    --------\n",
      "    >>> np.random.rand(3,2)\n",
      "    array([[ 0.14022471,  0.96360618],  #random\n",
      "           [ 0.37601032,  0.25528411],  #random\n",
      "           [ 0.49313049,  0.94909878]]) #random\n",
      "\n"
     ]
    }
   ],
   "source": [
    "help(np.random.rand)"
   ]
  },
  {
   "cell_type": "code",
   "execution_count": 39,
   "id": "40ef7bef",
   "metadata": {},
   "outputs": [
    {
     "name": "stdout",
     "output_type": "stream",
     "text": [
      "[[0.116149   0.61352105]\n",
      " [0.39288315 0.44855597]]\n"
     ]
    }
   ],
   "source": [
    "arr=np.random.rand(2,2)\n",
    "print(arr)"
   ]
  },
  {
   "cell_type": "code",
   "execution_count": 40,
   "id": "f7b047b9",
   "metadata": {},
   "outputs": [
    {
     "name": "stdout",
     "output_type": "stream",
     "text": [
      "[[[0.12813187 0.31349118]\n",
      "  [0.39456459 0.51337222]]\n",
      "\n",
      " [[0.05718064 0.75047048]\n",
      "  [0.18574777 0.73218576]]\n",
      "\n",
      " [[0.56807104 0.77628763]\n",
      "  [0.98907657 0.68405542]]]\n"
     ]
    }
   ],
   "source": [
    "arr=np.random.rand(3,2,2)\n",
    "print(arr)"
   ]
  },
  {
   "cell_type": "code",
   "execution_count": 22,
   "id": "107cc65e",
   "metadata": {},
   "outputs": [
    {
     "name": "stdout",
     "output_type": "stream",
     "text": [
      "[[0.4756977  0.02639478 0.81665382 ... 0.50507135 0.62238048 0.91355219]\n",
      " [0.69856722 0.33110377 0.40946864 ... 0.91826866 0.66858461 0.97866258]\n",
      " [0.04190732 0.71932428 0.95472693 ... 0.19944097 0.60313436 0.75991486]\n",
      " ...\n",
      " [0.32349108 0.94308664 0.92694935 ... 0.33345452 0.79477021 0.67755971]\n",
      " [0.49656111 0.61897973 0.86546689 ... 0.35969836 0.23260527 0.27862424]\n",
      " [0.89912281 0.50915179 0.33596964 ... 0.35585742 0.64866408 0.32805275]]\n"
     ]
    }
   ],
   "source": [
    "arr=np.random.rand(10000,10000)\n",
    "print(arr)"
   ]
  },
  {
   "cell_type": "code",
   "execution_count": null,
   "id": "21aed251",
   "metadata": {},
   "outputs": [],
   "source": [
    "arr=np.random.rand(10000,10000)\n",
    "import matplotlib.pyplot as plt\n",
    "plt.hist(arr)\n",
    "plt.show()"
   ]
  },
  {
   "cell_type": "code",
   "execution_count": null,
   "id": "0762dde2",
   "metadata": {},
   "outputs": [],
   "source": [
    "arr=np.random.rand(3,4)\n",
    "import matplotlib.pyplot as plt\n",
    "plt.hist(arr)\n",
    "plt.show()"
   ]
  },
  {
   "cell_type": "code",
   "execution_count": null,
   "id": "ef445c7d",
   "metadata": {},
   "outputs": [],
   "source": [
    "# "
   ]
  },
  {
   "cell_type": "code",
   "execution_count": null,
   "id": "0a2980af",
   "metadata": {},
   "outputs": [],
   "source": []
  },
  {
   "cell_type": "code",
   "execution_count": null,
   "id": "4a9c0f27",
   "metadata": {},
   "outputs": [],
   "source": []
  }
 ],
 "metadata": {
  "kernelspec": {
   "display_name": "Python 3 (ipykernel)",
   "language": "python",
   "name": "python3"
  },
  "language_info": {
   "codemirror_mode": {
    "name": "ipython",
    "version": 3
   },
   "file_extension": ".py",
   "mimetype": "text/x-python",
   "name": "python",
   "nbconvert_exporter": "python",
   "pygments_lexer": "ipython3",
   "version": "3.9.12"
  }
 },
 "nbformat": 4,
 "nbformat_minor": 5
}
