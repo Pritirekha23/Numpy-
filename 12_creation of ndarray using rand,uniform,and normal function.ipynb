{
 "cells": [
  {
   "cell_type": "markdown",
   "id": "10d4446c",
   "metadata": {},
   "source": [
    "#Creation of ndarray using rand(),unifrom()"
   ]
  },
  {
   "cell_type": "raw",
   "id": "6ea6ec8e",
   "metadata": {},
   "source": [
    "#rand()\n",
    "# rand function is used to generate random float values in the range of 0 to 1 from uniform distribution samples.\n",
    "# Here 0 is included and 1 is not included.\n",
    "# If we passes shape,it will give random values in the given shape.\n",
    "# if u r not passing any shape then it will give 1 value."
   ]
  },
  {
   "cell_type": "raw",
   "id": "43ae6f60",
   "metadata": {},
   "source": [
    "# Uniform Distribution\n",
    "# In Uniform Distribution the probability of x is constant."
   ]
  },
  {
   "cell_type": "raw",
   "id": "ff22b124",
   "metadata": {},
   "source": [
    "#Normal Distribution\n",
    "# The probability of x is high at center and low at the start and end."
   ]
  },
  {
   "cell_type": "code",
   "execution_count": 2,
   "id": "be823586",
   "metadata": {},
   "outputs": [],
   "source": [
    "import numpy as np\n"
   ]
  },
  {
   "cell_type": "code",
   "execution_count": 6,
   "id": "16016515",
   "metadata": {},
   "outputs": [
    {
     "name": "stdout",
     "output_type": "stream",
     "text": [
      "0.9313451606452604\n"
     ]
    }
   ],
   "source": [
    "arr=np.random.rand()\n",
    "print(arr)"
   ]
  },
  {
   "cell_type": "code",
   "execution_count": 23,
   "id": "4fdb9f0d",
   "metadata": {},
   "outputs": [
    {
     "name": "stdout",
     "output_type": "stream",
     "text": [
      "Help on built-in function rand:\n",
      "\n",
      "rand(...) method of numpy.random.mtrand.RandomState instance\n",
      "    rand(d0, d1, ..., dn)\n",
      "    \n",
      "    Random values in a given shape.\n",
      "    \n",
      "    .. note::\n",
      "        This is a convenience function for users porting code from Matlab,\n",
      "        and wraps `random_sample`. That function takes a\n",
      "        tuple to specify the size of the output, which is consistent with\n",
      "        other NumPy functions like `numpy.zeros` and `numpy.ones`.\n",
      "    \n",
      "    Create an array of the given shape and populate it with\n",
      "    random samples from a uniform distribution\n",
      "    over ``[0, 1)``.\n",
      "    \n",
      "    Parameters\n",
      "    ----------\n",
      "    d0, d1, ..., dn : int, optional\n",
      "        The dimensions of the returned array, must be non-negative.\n",
      "        If no argument is given a single Python float is returned.\n",
      "    \n",
      "    Returns\n",
      "    -------\n",
      "    out : ndarray, shape ``(d0, d1, ..., dn)``\n",
      "        Random values.\n",
      "    \n",
      "    See Also\n",
      "    --------\n",
      "    random\n",
      "    \n",
      "    Examples\n",
      "    --------\n",
      "    >>> np.random.rand(3,2)\n",
      "    array([[ 0.14022471,  0.96360618],  #random\n",
      "           [ 0.37601032,  0.25528411],  #random\n",
      "           [ 0.49313049,  0.94909878]]) #random\n",
      "\n"
     ]
    }
   ],
   "source": [
    "help(np.random.rand)"
   ]
  },
  {
   "cell_type": "code",
   "execution_count": 8,
   "id": "40ef7bef",
   "metadata": {},
   "outputs": [
    {
     "name": "stdout",
     "output_type": "stream",
     "text": [
      "[[0.26170829 0.45043417]\n",
      " [0.34678484 0.96673446]]\n"
     ]
    }
   ],
   "source": [
    "arr=np.random.rand(2,2)\n",
    "print(arr)"
   ]
  },
  {
   "cell_type": "code",
   "execution_count": 9,
   "id": "f7b047b9",
   "metadata": {},
   "outputs": [
    {
     "name": "stdout",
     "output_type": "stream",
     "text": [
      "[[[0.62778605 0.46560745]\n",
      "  [0.00679309 0.35592027]]\n",
      "\n",
      " [[0.69577512 0.65509978]\n",
      "  [0.73319298 0.47104007]]\n",
      "\n",
      " [[0.65057428 0.19371576]\n",
      "  [0.78551308 0.66069367]]]\n"
     ]
    }
   ],
   "source": [
    "#3D array\n",
    "arr=np.random.rand(3,2,2)\n",
    "\n",
    "print(arr)"
   ]
  },
  {
   "cell_type": "code",
   "execution_count": 22,
   "id": "107cc65e",
   "metadata": {},
   "outputs": [
    {
     "name": "stdout",
     "output_type": "stream",
     "text": [
      "[[0.4756977  0.02639478 0.81665382 ... 0.50507135 0.62238048 0.91355219]\n",
      " [0.69856722 0.33110377 0.40946864 ... 0.91826866 0.66858461 0.97866258]\n",
      " [0.04190732 0.71932428 0.95472693 ... 0.19944097 0.60313436 0.75991486]\n",
      " ...\n",
      " [0.32349108 0.94308664 0.92694935 ... 0.33345452 0.79477021 0.67755971]\n",
      " [0.49656111 0.61897973 0.86546689 ... 0.35969836 0.23260527 0.27862424]\n",
      " [0.89912281 0.50915179 0.33596964 ... 0.35585742 0.64866408 0.32805275]]\n"
     ]
    }
   ],
   "source": [
    "arr=np.random.rand(10000,10000)\n",
    "print(arr)"
   ]
  },
  {
   "cell_type": "code",
   "execution_count": 19,
   "id": "21aed251",
   "metadata": {},
   "outputs": [
    {
     "data": {
      "image/png": "[encoded data removed]",
      "text/plain": [
       "<Figure size 432x288 with 1 Axes>"
      ]
     },
     "metadata": {
      "needs_background": "light"
     },
     "output_type": "display_data"
    }
   ],
   "source": [
    "arr=np.random.rand(10000,10000)\n",
    "import matplotlib.pyplot as plt\n",
    "plt.hist(arr)\n",
    "plt.show()"
   ]
  },
  {
   "cell_type": "code",
   "execution_count": 4,
   "id": "0762dde2",
   "metadata": {},
   "outputs": [
    {
     "data": {
      "image/png": "[encoded data removed]",
      "text/plain": [
       "<Figure size 432x288 with 1 Axes>"
      ]
     },
     "metadata": {
      "needs_background": "light"
     },
     "output_type": "display_data"
    }
   ],
   "source": [
    "arr=np.random.rand(3,4)\n",
    "import matplotlib.pyplot as plt\n",
    "plt.hist(arr)\n",
    "plt.show()"
   ]
  },
  {
   "cell_type": "code",
   "execution_count": null,
   "id": "ef445c7d",
   "metadata": {},
   "outputs": [],
   "source": [
    "# uniform function\n",
    "# It is exactly same as rand() but here we can customize our low and high value."
   ]
  },
  {
   "cell_type": "code",
   "execution_count": 26,
   "id": "734864ef",
   "metadata": {},
   "outputs": [
    {
     "name": "stdout",
     "output_type": "stream",
     "text": [
      "Help on built-in function uniform:\n",
      "\n",
      "uniform(...) method of numpy.random.mtrand.RandomState instance\n",
      "    uniform(low=0.0, high=1.0, size=None)\n",
      "    \n",
      "    Draw samples from a uniform distribution.\n",
      "    \n",
      "    Samples are uniformly distributed over the half-open interval\n",
      "    ``[low, high)`` (includes low, but excludes high).  In other words,\n",
      "    any value within the given interval is equally likely to be drawn\n",
      "    by `uniform`.\n",
      "    \n",
      "    .. note::\n",
      "        New code should use the ``uniform`` method of a ``default_rng()``\n",
      "        instance instead; please see the :ref:`random-quick-start`.\n",
      "    \n",
      "    Parameters\n",
      "    ----------\n",
      "    low : float or array_like of floats, optional\n",
      "        Lower boundary of the output interval.  All values generated will be\n",
      "        greater than or equal to low.  The default value is 0.\n",
      "    high : float or array_like of floats\n",
      "        Upper boundary of the output interval.  All values generated will be\n",
      "        less than or equal to high.  The default value is 1.0.\n",
      "    size : int or tuple of ints, optional\n",
      "        Output shape.  If the given shape is, e.g., ``(m, n, k)``, then\n",
      "        ``m * n * k`` samples are drawn.  If size is ``None`` (default),\n",
      "        a single value is returned if ``low`` and ``high`` are both scalars.\n",
      "        Otherwise, ``np.broadcast(low, high).size`` samples are drawn.\n",
      "    \n",
      "    Returns\n",
      "    -------\n",
      "    out : ndarray or scalar\n",
      "        Drawn samples from the parameterized uniform distribution.\n",
      "    \n",
      "    See Also\n",
      "    --------\n",
      "    randint : Discrete uniform distribution, yielding integers.\n",
      "    random_integers : Discrete uniform distribution over the closed\n",
      "                      interval ``[low, high]``.\n",
      "    random_sample : Floats uniformly distributed over ``[0, 1)``.\n",
      "    random : Alias for `random_sample`.\n",
      "    rand : Convenience function that accepts dimensions as input, e.g.,\n",
      "           ``rand(2,2)`` would generate a 2-by-2 array of floats,\n",
      "           uniformly distributed over ``[0, 1)``.\n",
      "    Generator.uniform: which should be used for new code.\n",
      "    \n",
      "    Notes\n",
      "    -----\n",
      "    The probability density function of the uniform distribution is\n",
      "    \n",
      "    .. math:: p(x) = \\frac{1}{b - a}\n",
      "    \n",
      "    anywhere within the interval ``[a, b)``, and zero elsewhere.\n",
      "    \n",
      "    When ``high`` == ``low``, values of ``low`` will be returned.\n",
      "    If ``high`` < ``low``, the results are officially undefined\n",
      "    and may eventually raise an error, i.e. do not rely on this\n",
      "    function to behave when passed arguments satisfying that\n",
      "    inequality condition. The ``high`` limit may be included in the\n",
      "    returned array of floats due to floating-point rounding in the\n",
      "    equation ``low + (high-low) * random_sample()``. For example:\n",
      "    \n",
      "    >>> x = np.float32(5*0.99999999)\n",
      "    >>> x\n",
      "    5.0\n",
      "    \n",
      "    \n",
      "    Examples\n",
      "    --------\n",
      "    Draw samples from the distribution:\n",
      "    \n",
      "    >>> s = np.random.uniform(-1,0,1000)\n",
      "    \n",
      "    All values are within the given interval:\n",
      "    \n",
      "    >>> np.all(s >= -1)\n",
      "    True\n",
      "    >>> np.all(s < 0)\n",
      "    True\n",
      "    \n",
      "    Display the histogram of the samples, along with the\n",
      "    probability density function:\n",
      "    \n",
      "    >>> import matplotlib.pyplot as plt\n",
      "    >>> count, bins, ignored = plt.hist(s, 15, density=True)\n",
      "    >>> plt.plot(bins, np.ones_like(bins), linewidth=2, color='r')\n",
      "    >>> plt.show()\n",
      "\n"
     ]
    }
   ],
   "source": [
    "help(np.random.uniform)"
   ]
  },
  {
   "cell_type": "code",
   "execution_count": 27,
   "id": "a46e0aa2",
   "metadata": {},
   "outputs": [
    {
     "name": "stdout",
     "output_type": "stream",
     "text": [
      "0.27114317559066214\n"
     ]
    }
   ],
   "source": [
    "# If we will not pass any high or low value then it will give the default high and low value in between (low=0.0, high=1.0).\n",
    "arr=np.random.uniform()\n",
    "print(arr)"
   ]
  },
  {
   "cell_type": "code",
   "execution_count": 20,
   "id": "98390e8a",
   "metadata": {},
   "outputs": [
    {
     "name": "stdout",
     "output_type": "stream",
     "text": [
      "1.4066858814228764\n"
     ]
    }
   ],
   "source": [
    "arr=np.random.uniform(low=1.0,high=5.0)\n",
    "print(arr)"
   ]
  },
  {
   "cell_type": "code",
   "execution_count": 35,
   "id": "e9b60f11",
   "metadata": {},
   "outputs": [
    {
     "name": "stdout",
     "output_type": "stream",
     "text": [
      "[[1.18885031 3.3155821  3.55194027 ... 1.8938224  4.18621817 3.55372921]\n",
      " [5.33847758 6.60408671 7.69219721 ... 1.43931577 2.21072426 7.454791  ]\n",
      " [6.54859347 3.28617461 4.52055413 ... 3.80573321 3.03764758 5.24076114]\n",
      " ...\n",
      " [7.35793357 4.10476705 1.04673063 ... 6.93671753 6.95903838 5.70700264]\n",
      " [1.95066163 7.57587008 2.7272348  ... 1.9404378  3.09068029 5.97517946]\n",
      " [5.03792009 3.69592586 6.24131481 ... 3.15021997 4.26068338 3.01868064]]\n"
     ]
    }
   ],
   "source": [
    "arr=np.random.uniform(1.0,8.0,size=(100,100))\n",
    "print(arr)"
   ]
  },
  {
   "cell_type": "code",
   "execution_count": 5,
   "id": "810a250b",
   "metadata": {},
   "outputs": [
    {
     "data": {
      "image/png": "[encoded data removed]",
      "text/plain": [
       "<Figure size 432x288 with 1 Axes>"
      ]
     },
     "metadata": {
      "needs_background": "light"
     },
     "output_type": "display_data"
    }
   ],
   "source": [
    "arr=np.random.uniform(1.0,8.0,size=(10000,10000))\n",
    "plt.hist(arr)\n",
    "plt.show()"
   ]
  },
  {
   "cell_type": "code",
   "execution_count": null,
   "id": "0a2980af",
   "metadata": {},
   "outputs": [],
   "source": [
    "# randn()\n",
    "# It is a function used to generate float values from normal distribution samples with mean 0 and variance 1."
   ]
  },
  {
   "cell_type": "code",
   "execution_count": 12,
   "id": "e499cbfe",
   "metadata": {},
   "outputs": [
    {
     "name": "stdout",
     "output_type": "stream",
     "text": [
      "Help on built-in function randn:\n",
      "\n",
      "randn(...) method of numpy.random.mtrand.RandomState instance\n",
      "    randn(d0, d1, ..., dn)\n",
      "    \n",
      "    Return a sample (or samples) from the \"standard normal\" distribution.\n",
      "    \n",
      "    .. note::\n",
      "        This is a convenience function for users porting code from Matlab,\n",
      "        and wraps `standard_normal`. That function takes a\n",
      "        tuple to specify the size of the output, which is consistent with\n",
      "        other NumPy functions like `numpy.zeros` and `numpy.ones`.\n",
      "    \n",
      "    .. note::\n",
      "        New code should use the ``standard_normal`` method of a ``default_rng()``\n",
      "        instance instead; please see the :ref:`random-quick-start`.\n",
      "    \n",
      "    If positive int_like arguments are provided, `randn` generates an array\n",
      "    of shape ``(d0, d1, ..., dn)``, filled\n",
      "    with random floats sampled from a univariate \"normal\" (Gaussian)\n",
      "    distribution of mean 0 and variance 1. A single float randomly sampled\n",
      "    from the distribution is returned if no argument is provided.\n",
      "    \n",
      "    Parameters\n",
      "    ----------\n",
      "    d0, d1, ..., dn : int, optional\n",
      "        The dimensions of the returned array, must be non-negative.\n",
      "        If no argument is given a single Python float is returned.\n",
      "    \n",
      "    Returns\n",
      "    -------\n",
      "    Z : ndarray or float\n",
      "        A ``(d0, d1, ..., dn)``-shaped array of floating-point samples from\n",
      "        the standard normal distribution, or a single such float if\n",
      "        no parameters were supplied.\n",
      "    \n",
      "    See Also\n",
      "    --------\n",
      "    standard_normal : Similar, but takes a tuple as its argument.\n",
      "    normal : Also accepts mu and sigma arguments.\n",
      "    Generator.standard_normal: which should be used for new code.\n",
      "    \n",
      "    Notes\n",
      "    -----\n",
      "    For random samples from :math:`N(\\mu, \\sigma^2)`, use:\n",
      "    \n",
      "    ``sigma * np.random.randn(...) + mu``\n",
      "    \n",
      "    Examples\n",
      "    --------\n",
      "    >>> np.random.randn()\n",
      "    2.1923875335537315  # random\n",
      "    \n",
      "    Two-by-four array of samples from N(3, 6.25):\n",
      "    \n",
      "    >>> 3 + 2.5 * np.random.randn(2, 4)\n",
      "    array([[-4.49401501,  4.00950034, -1.81814867,  7.29718677],   # random\n",
      "           [ 0.39924804,  4.68456316,  4.99394529,  4.84057254]])  # random\n",
      "\n"
     ]
    }
   ],
   "source": [
    "help(np.random.randn)"
   ]
  },
  {
   "cell_type": "code",
   "execution_count": null,
   "id": "5e74b1be",
   "metadata": {},
   "outputs": [],
   "source": []
  },
  {
   "cell_type": "code",
   "execution_count": 11,
   "id": "e028afe6",
   "metadata": {},
   "outputs": [
    {
     "name": "stdout",
     "output_type": "stream",
     "text": [
      "-0.46938974949805873\n"
     ]
    }
   ],
   "source": [
    "arr=np.random.randn()\n",
    "print(arr)"
   ]
  },
  {
   "cell_type": "code",
   "execution_count": 16,
   "id": "bf2ae6ab",
   "metadata": {},
   "outputs": [
    {
     "name": "stdout",
     "output_type": "stream",
     "text": [
      "[[-2.54000406 -0.90311574  1.65116102 ... -0.46283044  1.65727474\n",
      "  -1.70089135]\n",
      " [ 2.17049712  0.25307243 -0.29643569 ...  0.18537523 -0.11422692\n",
      "   0.70803749]\n",
      " [ 0.30307322  0.52295666  0.24175128 ...  0.70656908 -0.26560251\n",
      "   1.14298149]\n",
      " ...\n",
      " [-0.38345573  0.64257593  0.92428001 ... -0.91017591  0.73701901\n",
      "   0.47739782]\n",
      " [ 0.31985417 -0.07634822  0.05102166 ...  1.55698004  0.84101298\n",
      "   0.14387348]\n",
      " [ 0.00913332 -0.19571477  0.10179909 ...  0.22200432 -1.28221163\n",
      "   1.23843854]]\n"
     ]
    }
   ],
   "source": [
    "arr=np.random.randn(1000,1000)\n",
    "print(arr)"
   ]
  },
  {
   "cell_type": "code",
   "execution_count": 17,
   "id": "c36982b4",
   "metadata": {},
   "outputs": [
    {
     "data": {
      "image/png": "[encoded data removed]",
      "text/plain": [
       "<Figure size 432x288 with 1 Axes>"
      ]
     },
     "metadata": {
      "needs_background": "light"
     },
     "output_type": "display_data"
    }
   ],
   "source": [
    "arr=np.random.randn(10000,10000)\n",
    "plt.hist(arr)\n",
    "plt.show()"
   ]
  },
  {
   "cell_type": "code",
   "execution_count": null,
   "id": "785ca3c2",
   "metadata": {},
   "outputs": [],
   "source": []
  },
  {
   "cell_type": "code",
   "execution_count": null,
   "id": "b8c9ad1b",
   "metadata": {},
   "outputs": [],
   "source": [
    "# normal()\n",
    "# It is exactly same as randn() but here we can customize mean and variance."
   ]
  },
  {
   "cell_type": "code",
   "execution_count": 24,
   "id": "80919418",
   "metadata": {},
   "outputs": [
    {
     "name": "stdout",
     "output_type": "stream",
     "text": [
      "Help on built-in function normal:\n",
      "\n",
      "normal(...) method of numpy.random.mtrand.RandomState instance\n",
      "    normal(loc=0.0, scale=1.0, size=None)\n",
      "    \n",
      "    Draw random samples from a normal (Gaussian) distribution.\n",
      "    \n",
      "    The probability density function of the normal distribution, first\n",
      "    derived by De Moivre and 200 years later by both Gauss and Laplace\n",
      "    independently [2]_, is often called the bell curve because of\n",
      "    its characteristic shape (see the example below).\n",
      "    \n",
      "    The normal distributions occurs often in nature.  For example, it\n",
      "    describes the commonly occurring distribution of samples influenced\n",
      "    by a large number of tiny, random disturbances, each with its own\n",
      "    unique distribution [2]_.\n",
      "    \n",
      "    .. note::\n",
      "        New code should use the ``normal`` method of a ``default_rng()``\n",
      "        instance instead; please see the :ref:`random-quick-start`.\n",
      "    \n",
      "    Parameters\n",
      "    ----------\n",
      "    loc : float or array_like of floats\n",
      "        Mean (\"centre\") of the distribution.\n",
      "    scale : float or array_like of floats\n",
      "        Standard deviation (spread or \"width\") of the distribution. Must be\n",
      "        non-negative.\n",
      "    size : int or tuple of ints, optional\n",
      "        Output shape.  If the given shape is, e.g., ``(m, n, k)``, then\n",
      "        ``m * n * k`` samples are drawn.  If size is ``None`` (default),\n",
      "        a single value is returned if ``loc`` and ``scale`` are both scalars.\n",
      "        Otherwise, ``np.broadcast(loc, scale).size`` samples are drawn.\n",
      "    \n",
      "    Returns\n",
      "    -------\n",
      "    out : ndarray or scalar\n",
      "        Drawn samples from the parameterized normal distribution.\n",
      "    \n",
      "    See Also\n",
      "    --------\n",
      "    scipy.stats.norm : probability density function, distribution or\n",
      "        cumulative density function, etc.\n",
      "    Generator.normal: which should be used for new code.\n",
      "    \n",
      "    Notes\n",
      "    -----\n",
      "    The probability density for the Gaussian distribution is\n",
      "    \n",
      "    .. math:: p(x) = \\frac{1}{\\sqrt{ 2 \\pi \\sigma^2 }}\n",
      "                     e^{ - \\frac{ (x - \\mu)^2 } {2 \\sigma^2} },\n",
      "    \n",
      "    where :math:`\\mu` is the mean and :math:`\\sigma` the standard\n",
      "    deviation. The square of the standard deviation, :math:`\\sigma^2`,\n",
      "    is called the variance.\n",
      "    \n",
      "    The function has its peak at the mean, and its \"spread\" increases with\n",
      "    the standard deviation (the function reaches 0.607 times its maximum at\n",
      "    :math:`x + \\sigma` and :math:`x - \\sigma` [2]_).  This implies that\n",
      "    normal is more likely to return samples lying close to the mean, rather\n",
      "    than those far away.\n",
      "    \n",
      "    References\n",
      "    ----------\n",
      "    .. [1] Wikipedia, \"Normal distribution\",\n",
      "           https://en.wikipedia.org/wiki/Normal_distribution\n",
      "    .. [2] P. R. Peebles Jr., \"Central Limit Theorem\" in \"Probability,\n",
      "           Random Variables and Random Signal Principles\", 4th ed., 2001,\n",
      "           pp. 51, 51, 125.\n",
      "    \n",
      "    Examples\n",
      "    --------\n",
      "    Draw samples from the distribution:\n",
      "    \n",
      "    >>> mu, sigma = 0, 0.1 # mean and standard deviation\n",
      "    >>> s = np.random.normal(mu, sigma, 1000)\n",
      "    \n",
      "    Verify the mean and the variance:\n",
      "    \n",
      "    >>> abs(mu - np.mean(s))\n",
      "    0.0  # may vary\n",
      "    \n",
      "    >>> abs(sigma - np.std(s, ddof=1))\n",
      "    0.1  # may vary\n",
      "    \n",
      "    Display the histogram of the samples, along with\n",
      "    the probability density function:\n",
      "    \n",
      "    >>> import matplotlib.pyplot as plt\n",
      "    >>> count, bins, ignored = plt.hist(s, 30, density=True)\n",
      "    >>> plt.plot(bins, 1/(sigma * np.sqrt(2 * np.pi)) *\n",
      "    ...                np.exp( - (bins - mu)**2 / (2 * sigma**2) ),\n",
      "    ...          linewidth=2, color='r')\n",
      "    >>> plt.show()\n",
      "    \n",
      "    Two-by-four array of samples from N(3, 6.25):\n",
      "    \n",
      "    >>> np.random.normal(3, 2.5, size=(2, 4))\n",
      "    array([[-4.49401501,  4.00950034, -1.81814867,  7.29718677],   # random\n",
      "           [ 0.39924804,  4.68456316,  4.99394529,  4.84057254]])  # random\n",
      "\n"
     ]
    }
   ],
   "source": [
    "help(np.random.normal)"
   ]
  },
  {
   "cell_type": "code",
   "execution_count": 25,
   "id": "b39ce5b8",
   "metadata": {},
   "outputs": [
    {
     "name": "stdout",
     "output_type": "stream",
     "text": [
      "[ 3.16932011  5.17350949  6.24404273  6.9645505   3.38583778  7.27437629\n",
      "  3.36070344  2.11042286  4.53641014  7.24551261  2.70245591  4.52859963\n",
      "  6.54549106  3.23794961  5.07840949  3.66913135  6.87621593  6.82358651\n",
      "  3.83809557  5.91807488  2.58066683  7.07096252  1.08965602  5.17915839\n",
      "  1.97385001  6.53292126  5.30101739  8.5997555   4.50325052  4.37255132\n",
      "  7.86441914  2.99885874  7.83856876  4.83472158  1.09538379  5.05482745\n",
      "  5.02296385  3.77030759  3.5673751   1.52059792  4.28086086  4.71061486\n",
      "  4.10518654  6.89668366  5.96456292  7.51109701  6.61794503  6.39280937\n",
      "  5.50108444  3.09330483  5.3866815   3.8839495   3.6607971   7.41571367\n",
      "  3.59980815  6.16828607  4.88689658  4.10926914  5.6410823   4.0526344\n",
      "  6.18661271  5.69601383 -1.07741061  4.20426513  5.50176799  5.72025474\n",
      "  4.84074504  4.9467061   4.89294611  3.07035595  6.28584985  4.55184277\n",
      "  3.41348875  3.97726231  4.0056309   5.06629125  5.26529992  5.81664289\n",
      "  4.27496164  4.23242593  4.15065077  2.92173019  6.4731707   6.95103801\n",
      "  7.21508253  2.63512999  4.48301835  2.36138582  3.60616441  5.05964159\n",
      "  0.3412111   2.645662    5.27863348  9.99383676  7.99779641  3.87121937\n",
      "  4.41571227  6.11056327  6.84952752  4.81675224]\n"
     ]
    }
   ],
   "source": [
    "arr=np.random.normal(loc=5,scale=2,size=100)\n",
    "print(arr)"
   ]
  },
  {
   "cell_type": "code",
   "execution_count": 28,
   "id": "65183f3f",
   "metadata": {},
   "outputs": [
    {
     "name": "stdout",
     "output_type": "stream",
     "text": [
      "[-9.09928972 -4.12706059  1.76011751  5.92137737 -1.21973561 -1.68225655\n",
      "  0.83181889 -5.84623172 -2.46342907 -3.37741932]\n"
     ]
    }
   ],
   "source": [
    "arr=np.random.normal(scale=4,size=10)\n",
    "print(arr)"
   ]
  },
  {
   "cell_type": "code",
   "execution_count": 29,
   "id": "9acc8bf4",
   "metadata": {},
   "outputs": [
    {
     "name": "stdout",
     "output_type": "stream",
     "text": [
      "[[ 4.53018728  5.82549923  5.16200133 ...  1.17015559  5.04492568\n",
      "   2.15941893]\n",
      " [ 5.92732296  2.94368588  6.80697302 ...  6.58328502  5.83680773\n",
      "   1.4081762 ]\n",
      " [ 5.61023266  2.9238472   3.70044147 ...  7.35761479  3.2616651\n",
      "   6.47370562]\n",
      " ...\n",
      " [ 4.26668966  3.9305525   8.49946456 ...  5.72701437  8.14334545\n",
      "   6.2087849 ]\n",
      " [ 5.66579584  4.44084718  6.11328495 ...  4.90445174  5.15383566\n",
      "  10.36445067]\n",
      " [ 0.93498143  5.69401458  4.99244761 ...  6.56798561  3.71376868\n",
      "   4.94844953]]\n"
     ]
    }
   ],
   "source": [
    "arr=np.random.normal(5,2,(100,100))\n",
    "print(arr)"
   ]
  },
  {
   "cell_type": "code",
   "execution_count": 39,
   "id": "4a9c0f27",
   "metadata": {},
   "outputs": [
    {
     "data": {
      "image/png": "[encoded data removed]",
      "text/plain": [
       "<Figure size 432x288 with 1 Axes>"
      ]
     },
     "metadata": {
      "needs_background": "light"
     },
     "output_type": "display_data"
    }
   ],
   "source": [
    "# mean=5,standard deviation(width)=2\n",
    "arr=np.random.normal(5,2,(100,100))\n",
    "plt.hist(arr)\n",
    "plt.show()"
   ]
  },
  {
   "cell_type": "code",
   "execution_count": 40,
   "id": "fe441040",
   "metadata": {},
   "outputs": [
    {
     "name": "stdout",
     "output_type": "stream",
     "text": [
      "[[ 9.81088762  5.11239006  3.459359   ... 17.7913413  12.46294413\n",
      "  11.39761006]\n",
      " [10.48475119  3.57939295 10.3953423  ...  5.33008136 14.21801267\n",
      "  16.07301382]\n",
      " [13.47701099  4.2577864  10.99241929 ... 11.21080752 13.73798029\n",
      "   9.53484732]\n",
      " ...\n",
      " [15.15288743  4.87478621 10.17060021 ... 10.99918986  7.51993168\n",
      "   8.54270729]\n",
      " [ 9.3478067   8.21749735 10.59762746 ... 11.92247268  0.41715695\n",
      "   7.66955598]\n",
      " [13.24046296  9.00338282  4.78342373 ...  4.68418031 20.28726957\n",
      "  11.74162111]]\n"
     ]
    }
   ],
   "source": [
    "\n",
    "arr=np.random.normal(10,5,(100,100))\n",
    "print(arr)"
   ]
  },
  {
   "cell_type": "code",
   "execution_count": 41,
   "id": "7f152fae",
   "metadata": {},
   "outputs": [
    {
     "data": {
      "image/png": "[encoded data removed]",
      "text/plain": [
       "<Figure size 432x288 with 1 Axes>"
      ]
     },
     "metadata": {
      "needs_background": "light"
     },
     "output_type": "display_data"
    }
   ],
   "source": [
    "# mean=10,standard deviation=5\n",
    "arr=np.random.normal(10,5,(100,100))\n",
    "plt.hist(arr)\n",
    "plt.show()"
   ]
  },
  {
   "cell_type": "code",
   "execution_count": null,
   "id": "e15c7587",
   "metadata": {},
   "outputs": [],
   "source": []
  },
  {
   "cell_type": "code",
   "execution_count": null,
   "id": "4fd7ca28",
   "metadata": {},
   "outputs": [],
   "source": []
  }
 ],
 "metadata": {
  "kernelspec": {
   "display_name": "Python 3 (ipykernel)",
   "language": "python",
   "name": "python3"
  },
  "language_info": {
   "codemirror_mode": {
    "name": "ipython",
    "version": 3
   },
   "file_extension": ".py",
   "mimetype": "text/x-python",
   "name": "python",
   "nbconvert_exporter": "python",
   "pygments_lexer": "ipython3",
   "version": "3.9.12"
  }
 },
 "nbformat": 4,
 "nbformat_minor": 5
}
