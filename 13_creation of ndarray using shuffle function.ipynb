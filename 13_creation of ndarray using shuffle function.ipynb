{
 "cells": [
  {
   "cell_type": "code",
   "execution_count": null,
   "id": "965ad115",
   "metadata": {},
   "outputs": [],
   "source": [
    "# creation of ndarray using shuffle()"
   ]
  },
  {
   "cell_type": "code",
   "execution_count": null,
   "id": "c4a617d8",
   "metadata": {},
   "outputs": [],
   "source": [
    "# shuffle()\n",
    "# shuffle means rearranging\n",
    "# Array shuffle means re-arranging the array elements."
   ]
  },
  {
   "cell_type": "code",
   "execution_count": 1,
   "id": "bb22522c",
   "metadata": {},
   "outputs": [],
   "source": [
    "import numpy as np"
   ]
  },
  {
   "cell_type": "code",
   "execution_count": null,
   "id": "9e585979",
   "metadata": {},
   "outputs": [],
   "source": [
    "# shuffle with 1D array\n",
    "arr=np.arange(5)\n",
    "print(a)\n",
    "arr=np.random.shuffle()\n"
   ]
  },
  {
   "cell_type": "code",
   "execution_count": null,
   "id": "42b260b3",
   "metadata": {},
   "outputs": [],
   "source": []
  }
 ],
 "metadata": {
  "kernelspec": {
   "display_name": "Python 3 (ipykernel)",
   "language": "python",
   "name": "python3"
  },
  "language_info": {
   "codemirror_mode": {
    "name": "ipython",
    "version": 3
   },
   "file_extension": ".py",
   "mimetype": "text/x-python",
   "name": "python",
   "nbconvert_exporter": "python",
   "pygments_lexer": "ipython3",
   "version": "3.9.12"
  }
 },
 "nbformat": 4,
 "nbformat_minor": 5
}
