{
 "cells": [
  {
   "cell_type": "code",
   "execution_count": null,
   "id": "965ad115",
   "metadata": {},
   "outputs": [],
   "source": [
    "# creation of ndarray using shuffle()"
   ]
  },
  {
   "cell_type": "code",
   "execution_count": null,
   "id": "5603d52c",
   "metadata": {},
   "outputs": [],
   "source": [
    "# shuffle()\n",
    "# shuffle means rearranging\n",
    "# Array shuffle means re-arranging the array elements."
   ]
  },
  {
   "cell_type": "code",
   "execution_count": 1,
   "id": "de6cb5a6",
   "metadata": {},
   "outputs": [],
   "source": [
    "import numpy as np"
   ]
  },
  {
   "cell_type": "code",
   "execution_count": 7,
   "id": "a503ba57",
   "metadata": {},
   "outputs": [
    {
     "name": "stdout",
     "output_type": "stream",
     "text": [
      "before shuffle\n",
      "[0 1 2 3 4]\n"
     ]
    }
   ],
   "source": [
    "# shuffle with 1D array\n",
    "print('before shuffle')\n",
    "arr=np.arange(5)\n",
    "print(arr)\n",
    "\n"
   ]
  },
  {
   "cell_type": "code",
   "execution_count": 8,
   "id": "eb5b21b5",
   "metadata": {},
   "outputs": [
    {
     "name": "stdout",
     "output_type": "stream",
     "text": [
      "after shuffle\n",
      "[0 1 4 3 2]\n"
     ]
    }
   ],
   "source": [
    "print('after shuffle')\n",
    "np.random.shuffle(arr)\n",
    "print(arr)"
   ]
  },
  {
   "cell_type": "code",
   "execution_count": 5,
   "id": "563e69c4",
   "metadata": {},
   "outputs": [
    {
     "name": "stdout",
     "output_type": "stream",
     "text": [
      "Help on built-in function shuffle:\n",
      "\n",
      "shuffle(...) method of numpy.random.mtrand.RandomState instance\n",
      "    shuffle(x)\n",
      "    \n",
      "    Modify a sequence in-place by shuffling its contents.\n",
      "    \n",
      "    This function only shuffles the array along the first axis of a\n",
      "    multi-dimensional array. The order of sub-arrays is changed but\n",
      "    their contents remains the same.\n",
      "    \n",
      "    .. note::\n",
      "        New code should use the ``shuffle`` method of a ``default_rng()``\n",
      "        instance instead; please see the :ref:`random-quick-start`.\n",
      "    \n",
      "    Parameters\n",
      "    ----------\n",
      "    x : ndarray or MutableSequence\n",
      "        The array, list or mutable sequence to be shuffled.\n",
      "    \n",
      "    Returns\n",
      "    -------\n",
      "    None\n",
      "    \n",
      "    See Also\n",
      "    --------\n",
      "    Generator.shuffle: which should be used for new code.\n",
      "    \n",
      "    Examples\n",
      "    --------\n",
      "    >>> arr = np.arange(10)\n",
      "    >>> np.random.shuffle(arr)\n",
      "    >>> arr\n",
      "    [1 7 5 2 9 4 3 6 0 8] # random\n",
      "    \n",
      "    Multi-dimensional arrays are only shuffled along the first axis:\n",
      "    \n",
      "    >>> arr = np.arange(9).reshape((3, 3))\n",
      "    >>> np.random.shuffle(arr)\n",
      "    >>> arr\n",
      "    array([[3, 4, 5], # random\n",
      "           [6, 7, 8],\n",
      "           [0, 1, 2]])\n",
      "\n"
     ]
    }
   ],
   "source": [
    "help(np.random.shuffle)"
   ]
  },
  {
   "cell_type": "code",
   "execution_count": null,
   "id": "ac5b90f0",
   "metadata": {},
   "outputs": [],
   "source": [
    "# shuffle with 2D array\n",
    "#  This function only shuffles the array along the first axis(0-axis) of a/  multi-dimensional array"
   ]
  },
  {
   "cell_type": "code",
   "execution_count": 10,
   "id": "d1ffbf7b",
   "metadata": {},
   "outputs": [
    {
     "name": "stdout",
     "output_type": "stream",
     "text": [
      "before shuffle\n",
      "[[0 1 2]\n",
      " [3 4 5]\n",
      " [6 7 8]]\n"
     ]
    }
   ],
   "source": [
    "# example-1\n",
    "print('before shuffle')\n",
    "arrr=np.arange(9).reshape(3,3)\n",
    "print(arrr)"
   ]
  },
  {
   "cell_type": "code",
   "execution_count": 11,
   "id": "d631249c",
   "metadata": {},
   "outputs": [
    {
     "name": "stdout",
     "output_type": "stream",
     "text": [
      "after shuffle\n",
      "[[6 7 8]\n",
      " [3 4 5]\n",
      " [0 1 2]]\n"
     ]
    }
   ],
   "source": [
    "print('after shuffle')\n",
    "np.random.shuffle(arrr)\n",
    "print(arrr)"
   ]
  },
  {
   "cell_type": "code",
   "execution_count": 13,
   "id": "a046d267",
   "metadata": {},
   "outputs": [
    {
     "name": "stdout",
     "output_type": "stream",
     "text": [
      "before shuffle\n",
      "[[ 0  1  2  3]\n",
      " [ 4  5  6  7]\n",
      " [ 8  9 10 11]]\n"
     ]
    }
   ],
   "source": [
    "#example-2\n",
    "print('before shuffle')\n",
    "arr=np.arange(12).reshape(3,4)\n",
    "print(arr)"
   ]
  },
  {
   "cell_type": "code",
   "execution_count": 14,
   "id": "a8045c8e",
   "metadata": {},
   "outputs": [
    {
     "name": "stdout",
     "output_type": "stream",
     "text": [
      "after shuffle\n",
      "[[ 8  9 10 11]\n",
      " [ 4  5  6  7]\n",
      " [ 0  1  2  3]]\n"
     ]
    }
   ],
   "source": [
    "print('after shuffle')\n",
    "np.random.shuffle(arr)\n",
    "print(arr)"
   ]
  },
  {
   "cell_type": "code",
   "execution_count": 15,
   "id": "77719225",
   "metadata": {},
   "outputs": [
    {
     "name": "stdout",
     "output_type": "stream",
     "text": [
      "before shuffle\n",
      "[[ 0  1  2]\n",
      " [ 3  4  5]\n",
      " [ 6  7  8]\n",
      " [ 9 10 11]]\n"
     ]
    }
   ],
   "source": [
    "# example-3\n",
    "print('before shuffle 4 row 3 column')\n",
    "arr=np.arange(12).reshape(4,3)\n",
    "print(arr)"
   ]
  },
  {
   "cell_type": "code",
   "execution_count": 16,
   "id": "96cfce0d",
   "metadata": {},
   "outputs": [
    {
     "name": "stdout",
     "output_type": "stream",
     "text": [
      "after shuffle\n",
      "[[ 3  4  5]\n",
      " [ 0  1  2]\n",
      " [ 6  7  8]\n",
      " [ 9 10 11]]\n"
     ]
    }
   ],
   "source": [
    "print('after shuffle')\n",
    "np.random.shuffle(arr)\n",
    "print(arr)"
   ]
  },
  {
   "cell_type": "code",
   "execution_count": 22,
   "id": "bdf7739b",
   "metadata": {},
   "outputs": [
    {
     "name": "stdout",
     "output_type": "stream",
     "text": [
      "example-1 of 3D array\n",
      "before shuffle\n",
      "[[[ 0  1  2]\n",
      "  [ 3  4  5]\n",
      "  [ 6  7  8]]\n",
      "\n",
      " [[ 9 10 11]\n",
      "  [12 13 14]\n",
      "  [15 16 17]]\n",
      "\n",
      " [[18 19 20]\n",
      "  [21 22 23]\n",
      "  [24 25 26]]]\n"
     ]
    }
   ],
   "source": [
    "# shuffle with 3D array\n",
    "print('example-1 of 3D array')\n",
    "print('before shuffle')\n",
    "arr=np.arange(27).reshape(3,3,3)\n",
    "print(arr)"
   ]
  },
  {
   "cell_type": "code",
   "execution_count": 20,
   "id": "53a29f10",
   "metadata": {},
   "outputs": [
    {
     "name": "stdout",
     "output_type": "stream",
     "text": [
      "after shuffle\n",
      "[[[18 19 20]\n",
      "  [21 22 23]\n",
      "  [24 25 26]]\n",
      "\n",
      " [[ 0  1  2]\n",
      "  [ 3  4  5]\n",
      "  [ 6  7  8]]\n",
      "\n",
      " [[ 9 10 11]\n",
      "  [12 13 14]\n",
      "  [15 16 17]]]\n"
     ]
    }
   ],
   "source": [
    "print('after shuffle')\n",
    "np.random.shuffle(arr)\n",
    "print(arr)"
   ]
  },
  {
   "cell_type": "code",
   "execution_count": 31,
   "id": "3ac23766",
   "metadata": {},
   "outputs": [
    {
     "name": "stdout",
     "output_type": "stream",
     "text": [
      "example-2 of 3D array\n",
      "before shuffle\n",
      "[[[  0   1   2   3   4   5   6   7]\n",
      "  [  8   9  10  11  12  13  14  15]\n",
      "  [ 16  17  18  19  20  21  22  23]\n",
      "  [ 24  25  26  27  28  29  30  31]\n",
      "  [ 32  33  34  35  36  37  38  39]\n",
      "  [ 40  41  42  43  44  45  46  47]\n",
      "  [ 48  49  50  51  52  53  54  55]\n",
      "  [ 56  57  58  59  60  61  62  63]]\n",
      "\n",
      " [[ 64  65  66  67  68  69  70  71]\n",
      "  [ 72  73  74  75  76  77  78  79]\n",
      "  [ 80  81  82  83  84  85  86  87]\n",
      "  [ 88  89  90  91  92  93  94  95]\n",
      "  [ 96  97  98  99 100 101 102 103]\n",
      "  [104 105 106 107 108 109 110 111]\n",
      "  [112 113 114 115 116 117 118 119]\n",
      "  [120 121 122 123 124 125 126 127]]\n",
      "\n",
      " [[128 129 130 131 132 133 134 135]\n",
      "  [136 137 138 139 140 141 142 143]\n",
      "  [144 145 146 147 148 149 150 151]\n",
      "  [152 153 154 155 156 157 158 159]\n",
      "  [160 161 162 163 164 165 166 167]\n",
      "  [168 169 170 171 172 173 174 175]\n",
      "  [176 177 178 179 180 181 182 183]\n",
      "  [184 185 186 187 188 189 190 191]]\n",
      "\n",
      " [[192 193 194 195 196 197 198 199]\n",
      "  [200 201 202 203 204 205 206 207]\n",
      "  [208 209 210 211 212 213 214 215]\n",
      "  [216 217 218 219 220 221 222 223]\n",
      "  [224 225 226 227 228 229 230 231]\n",
      "  [232 233 234 235 236 237 238 239]\n",
      "  [240 241 242 243 244 245 246 247]\n",
      "  [248 249 250 251 252 253 254 255]]\n",
      "\n",
      " [[256 257 258 259 260 261 262 263]\n",
      "  [264 265 266 267 268 269 270 271]\n",
      "  [272 273 274 275 276 277 278 279]\n",
      "  [280 281 282 283 284 285 286 287]\n",
      "  [288 289 290 291 292 293 294 295]\n",
      "  [296 297 298 299 300 301 302 303]\n",
      "  [304 305 306 307 308 309 310 311]\n",
      "  [312 313 314 315 316 317 318 319]]\n",
      "\n",
      " [[320 321 322 323 324 325 326 327]\n",
      "  [328 329 330 331 332 333 334 335]\n",
      "  [336 337 338 339 340 341 342 343]\n",
      "  [344 345 346 347 348 349 350 351]\n",
      "  [352 353 354 355 356 357 358 359]\n",
      "  [360 361 362 363 364 365 366 367]\n",
      "  [368 369 370 371 372 373 374 375]\n",
      "  [376 377 378 379 380 381 382 383]]\n",
      "\n",
      " [[384 385 386 387 388 389 390 391]\n",
      "  [392 393 394 395 396 397 398 399]\n",
      "  [400 401 402 403 404 405 406 407]\n",
      "  [408 409 410 411 412 413 414 415]\n",
      "  [416 417 418 419 420 421 422 423]\n",
      "  [424 425 426 427 428 429 430 431]\n",
      "  [432 433 434 435 436 437 438 439]\n",
      "  [440 441 442 443 444 445 446 447]]\n",
      "\n",
      " [[448 449 450 451 452 453 454 455]\n",
      "  [456 457 458 459 460 461 462 463]\n",
      "  [464 465 466 467 468 469 470 471]\n",
      "  [472 473 474 475 476 477 478 479]\n",
      "  [480 481 482 483 484 485 486 487]\n",
      "  [488 489 490 491 492 493 494 495]\n",
      "  [496 497 498 499 500 501 502 503]\n",
      "  [504 505 506 507 508 509 510 511]]]\n"
     ]
    }
   ],
   "source": [
    "\n",
    "print('example-2 of 3D array')\n",
    "print('before shuffle')\n",
    "arr=np.arange(512).reshape(8,8,8)\n",
    "print(arr)"
   ]
  },
  {
   "cell_type": "code",
   "execution_count": 32,
   "id": "b30dcd9b",
   "metadata": {},
   "outputs": [
    {
     "name": "stdout",
     "output_type": "stream",
     "text": [
      "after shuffle\n",
      "[[[ 64  65  66  67  68  69  70  71]\n",
      "  [ 72  73  74  75  76  77  78  79]\n",
      "  [ 80  81  82  83  84  85  86  87]\n",
      "  [ 88  89  90  91  92  93  94  95]\n",
      "  [ 96  97  98  99 100 101 102 103]\n",
      "  [104 105 106 107 108 109 110 111]\n",
      "  [112 113 114 115 116 117 118 119]\n",
      "  [120 121 122 123 124 125 126 127]]\n",
      "\n",
      " [[448 449 450 451 452 453 454 455]\n",
      "  [456 457 458 459 460 461 462 463]\n",
      "  [464 465 466 467 468 469 470 471]\n",
      "  [472 473 474 475 476 477 478 479]\n",
      "  [480 481 482 483 484 485 486 487]\n",
      "  [488 489 490 491 492 493 494 495]\n",
      "  [496 497 498 499 500 501 502 503]\n",
      "  [504 505 506 507 508 509 510 511]]\n",
      "\n",
      " [[320 321 322 323 324 325 326 327]\n",
      "  [328 329 330 331 332 333 334 335]\n",
      "  [336 337 338 339 340 341 342 343]\n",
      "  [344 345 346 347 348 349 350 351]\n",
      "  [352 353 354 355 356 357 358 359]\n",
      "  [360 361 362 363 364 365 366 367]\n",
      "  [368 369 370 371 372 373 374 375]\n",
      "  [376 377 378 379 380 381 382 383]]\n",
      "\n",
      " [[  0   1   2   3   4   5   6   7]\n",
      "  [  8   9  10  11  12  13  14  15]\n",
      "  [ 16  17  18  19  20  21  22  23]\n",
      "  [ 24  25  26  27  28  29  30  31]\n",
      "  [ 32  33  34  35  36  37  38  39]\n",
      "  [ 40  41  42  43  44  45  46  47]\n",
      "  [ 48  49  50  51  52  53  54  55]\n",
      "  [ 56  57  58  59  60  61  62  63]]\n",
      "\n",
      " [[192 193 194 195 196 197 198 199]\n",
      "  [200 201 202 203 204 205 206 207]\n",
      "  [208 209 210 211 212 213 214 215]\n",
      "  [216 217 218 219 220 221 222 223]\n",
      "  [224 225 226 227 228 229 230 231]\n",
      "  [232 233 234 235 236 237 238 239]\n",
      "  [240 241 242 243 244 245 246 247]\n",
      "  [248 249 250 251 252 253 254 255]]\n",
      "\n",
      " [[128 129 130 131 132 133 134 135]\n",
      "  [136 137 138 139 140 141 142 143]\n",
      "  [144 145 146 147 148 149 150 151]\n",
      "  [152 153 154 155 156 157 158 159]\n",
      "  [160 161 162 163 164 165 166 167]\n",
      "  [168 169 170 171 172 173 174 175]\n",
      "  [176 177 178 179 180 181 182 183]\n",
      "  [184 185 186 187 188 189 190 191]]\n",
      "\n",
      " [[384 385 386 387 388 389 390 391]\n",
      "  [392 393 394 395 396 397 398 399]\n",
      "  [400 401 402 403 404 405 406 407]\n",
      "  [408 409 410 411 412 413 414 415]\n",
      "  [416 417 418 419 420 421 422 423]\n",
      "  [424 425 426 427 428 429 430 431]\n",
      "  [432 433 434 435 436 437 438 439]\n",
      "  [440 441 442 443 444 445 446 447]]\n",
      "\n",
      " [[256 257 258 259 260 261 262 263]\n",
      "  [264 265 266 267 268 269 270 271]\n",
      "  [272 273 274 275 276 277 278 279]\n",
      "  [280 281 282 283 284 285 286 287]\n",
      "  [288 289 290 291 292 293 294 295]\n",
      "  [296 297 298 299 300 301 302 303]\n",
      "  [304 305 306 307 308 309 310 311]\n",
      "  [312 313 314 315 316 317 318 319]]]\n"
     ]
    }
   ],
   "source": [
    "print('after shuffle')\n",
    "np.random.shuffle(arr)\n",
    "print(arr)"
   ]
  },
  {
   "cell_type": "code",
   "execution_count": 26,
   "id": "bcddaf38",
   "metadata": {},
   "outputs": [
    {
     "name": "stdout",
     "output_type": "stream",
     "text": [
      "example-3 of 3D array\n",
      "before shuffle\n",
      "[[[ 0  1  2  3  4  5  6  7]\n",
      "  [ 8  9 10 11 12 13 14 15]\n",
      "  [16 17 18 19 20 21 22 23]\n",
      "  [24 25 26 27 28 29 30 31]]\n",
      "\n",
      " [[32 33 34 35 36 37 38 39]\n",
      "  [40 41 42 43 44 45 46 47]\n",
      "  [48 49 50 51 52 53 54 55]\n",
      "  [56 57 58 59 60 61 62 63]]]\n"
     ]
    }
   ],
   "source": [
    "print('example-3 of 3D array')\n",
    "print('before shuffle')\n",
    "arr=np.arange(64).reshape(2,4,8)\n",
    "print(arr)"
   ]
  },
  {
   "cell_type": "code",
   "execution_count": 29,
   "id": "ed074b80",
   "metadata": {},
   "outputs": [
    {
     "name": "stdout",
     "output_type": "stream",
     "text": [
      "after shuffle\n",
      "[[[32 33 34 35 36 37 38 39]\n",
      "  [40 41 42 43 44 45 46 47]\n",
      "  [48 49 50 51 52 53 54 55]\n",
      "  [56 57 58 59 60 61 62 63]]\n",
      "\n",
      " [[ 0  1  2  3  4  5  6  7]\n",
      "  [ 8  9 10 11 12 13 14 15]\n",
      "  [16 17 18 19 20 21 22 23]\n",
      "  [24 25 26 27 28 29 30 31]]]\n"
     ]
    }
   ],
   "source": [
    "print('after shuffle')\n",
    "np.random.shuffle(arr)\n",
    "print(arr)"
   ]
  },
  {
   "cell_type": "code",
   "execution_count": null,
   "id": "c6677479",
   "metadata": {},
   "outputs": [],
   "source": []
  },
  {
   "cell_type": "markdown",
   "id": "ca57596a",
   "metadata": {},
   "source": [
    "# NOTE"
   ]
  },
  {
   "cell_type": "code",
   "execution_count": 33,
   "id": "e79aafae",
   "metadata": {},
   "outputs": [],
   "source": [
    " # If it is,\n",
    "# 1D array  ----->  all the element shuffle\n",
    "# 2D array  ----->  shuffle apply only into the row\n",
    "# 3D array  -----> shuffle apply to 2D array\n",
    "# 4D array  -----> shuffle apply to 3D array\n",
    "# 5D array  -----> shuffle apply to 4D array   like this......"
   ]
  },
  {
   "cell_type": "code",
   "execution_count": 34,
   "id": "7899f564",
   "metadata": {},
   "outputs": [
    {
     "name": "stdout",
     "output_type": "stream",
     "text": [
      "[[[[ 0  1  2  3]\n",
      "   [ 4  5  6  7]\n",
      "   [ 8  9 10 11]\n",
      "   [12 13 14 15]]\n",
      "\n",
      "  [[16 17 18 19]\n",
      "   [20 21 22 23]\n",
      "   [24 25 26 27]\n",
      "   [28 29 30 31]]]\n",
      "\n",
      "\n",
      " [[[32 33 34 35]\n",
      "   [36 37 38 39]\n",
      "   [40 41 42 43]\n",
      "   [44 45 46 47]]\n",
      "\n",
      "  [[48 49 50 51]\n",
      "   [52 53 54 55]\n",
      "   [56 57 58 59]\n",
      "   [60 61 62 63]]]]\n"
     ]
    }
   ],
   "source": [
    "# shuffle with 4D array\n",
    "#example-1\n",
    "print('before shuffle')\n",
    "arr=np.arange(64).reshape(2,2,4,4)\n",
    "print(arr)"
   ]
  },
  {
   "cell_type": "code",
   "execution_count": 36,
   "id": "86ef0964",
   "metadata": {},
   "outputs": [
    {
     "name": "stdout",
     "output_type": "stream",
     "text": [
      "after shuffle\n",
      "[[[[32 33 34 35]\n",
      "   [36 37 38 39]\n",
      "   [40 41 42 43]\n",
      "   [44 45 46 47]]\n",
      "\n",
      "  [[48 49 50 51]\n",
      "   [52 53 54 55]\n",
      "   [56 57 58 59]\n",
      "   [60 61 62 63]]]\n",
      "\n",
      "\n",
      " [[[ 0  1  2  3]\n",
      "   [ 4  5  6  7]\n",
      "   [ 8  9 10 11]\n",
      "   [12 13 14 15]]\n",
      "\n",
      "  [[16 17 18 19]\n",
      "   [20 21 22 23]\n",
      "   [24 25 26 27]\n",
      "   [28 29 30 31]]]]\n"
     ]
    }
   ],
   "source": [
    "print('after shuffle')\n",
    "np.random.shuffle(arr)\n",
    "print(arr)"
   ]
  },
  {
   "cell_type": "code",
   "execution_count": 38,
   "id": "0eba0686",
   "metadata": {},
   "outputs": [
    {
     "name": "stdout",
     "output_type": "stream",
     "text": [
      "before shuffle\n",
      "[[[[ 0  1]\n",
      "   [ 2  3]]\n",
      "\n",
      "  [[ 4  5]\n",
      "   [ 6  7]]]\n",
      "\n",
      "\n",
      " [[[ 8  9]\n",
      "   [10 11]]\n",
      "\n",
      "  [[12 13]\n",
      "   [14 15]]]\n",
      "\n",
      "\n",
      " [[[16 17]\n",
      "   [18 19]]\n",
      "\n",
      "  [[20 21]\n",
      "   [22 23]]]\n",
      "\n",
      "\n",
      " [[[24 25]\n",
      "   [26 27]]\n",
      "\n",
      "  [[28 29]\n",
      "   [30 31]]]\n",
      "\n",
      "\n",
      " [[[32 33]\n",
      "   [34 35]]\n",
      "\n",
      "  [[36 37]\n",
      "   [38 39]]]\n",
      "\n",
      "\n",
      " [[[40 41]\n",
      "   [42 43]]\n",
      "\n",
      "  [[44 45]\n",
      "   [46 47]]]\n",
      "\n",
      "\n",
      " [[[48 49]\n",
      "   [50 51]]\n",
      "\n",
      "  [[52 53]\n",
      "   [54 55]]]\n",
      "\n",
      "\n",
      " [[[56 57]\n",
      "   [58 59]]\n",
      "\n",
      "  [[60 61]\n",
      "   [62 63]]]]\n"
     ]
    }
   ],
   "source": [
    "# shuffle with 5D array\n",
    "#example-1\n",
    "print('before shuffle')\n",
    "arr=np.arange(64).reshape(8,2,2,2)\n",
    "print(arr)"
   ]
  },
  {
   "cell_type": "code",
   "execution_count": 39,
   "id": "1a2e1ebd",
   "metadata": {},
   "outputs": [
    {
     "name": "stdout",
     "output_type": "stream",
     "text": [
      "after shuffle\n",
      "[[[[56 57]\n",
      "   [58 59]]\n",
      "\n",
      "  [[60 61]\n",
      "   [62 63]]]\n",
      "\n",
      "\n",
      " [[[ 8  9]\n",
      "   [10 11]]\n",
      "\n",
      "  [[12 13]\n",
      "   [14 15]]]\n",
      "\n",
      "\n",
      " [[[32 33]\n",
      "   [34 35]]\n",
      "\n",
      "  [[36 37]\n",
      "   [38 39]]]\n",
      "\n",
      "\n",
      " [[[16 17]\n",
      "   [18 19]]\n",
      "\n",
      "  [[20 21]\n",
      "   [22 23]]]\n",
      "\n",
      "\n",
      " [[[ 0  1]\n",
      "   [ 2  3]]\n",
      "\n",
      "  [[ 4  5]\n",
      "   [ 6  7]]]\n",
      "\n",
      "\n",
      " [[[24 25]\n",
      "   [26 27]]\n",
      "\n",
      "  [[28 29]\n",
      "   [30 31]]]\n",
      "\n",
      "\n",
      " [[[48 49]\n",
      "   [50 51]]\n",
      "\n",
      "  [[52 53]\n",
      "   [54 55]]]\n",
      "\n",
      "\n",
      " [[[40 41]\n",
      "   [42 43]]\n",
      "\n",
      "  [[44 45]\n",
      "   [46 47]]]]\n"
     ]
    }
   ],
   "source": [
    "print('after shuffle')\n",
    "np.random.shuffle(arr)\n",
    "print(arr)"
   ]
  },
  {
   "cell_type": "code",
   "execution_count": null,
   "id": "75511106",
   "metadata": {},
   "outputs": [],
   "source": []
  }
 ],
 "metadata": {
  "kernelspec": {
   "display_name": "Python 3 (ipykernel)",
   "language": "python",
   "name": "python3"
  },
  "language_info": {
   "codemirror_mode": {
    "name": "ipython",
    "version": 3
   },
   "file_extension": ".py",
   "mimetype": "text/x-python",
   "name": "python",
   "nbconvert_exporter": "python",
   "pygments_lexer": "ipython3",
   "version": "3.9.12"
  }
 },
 "nbformat": 4,
 "nbformat_minor": 5
}
